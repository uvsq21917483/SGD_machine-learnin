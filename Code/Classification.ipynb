{
 "cells": [
  {
   "cell_type": "markdown",
   "id": "22e7a6ec",
   "metadata": {},
   "source": [
    "# Importation des Librairies"
   ]
  },
  {
   "cell_type": "code",
   "execution_count": 340,
   "id": "af46dd9e",
   "metadata": {},
   "outputs": [],
   "source": [
    "import warnings\n",
    "warnings.filterwarnings(\"ignore\")\n",
    "import pandas as pd # data frame\n",
    "import numpy as np # manipulate N-dimensional arrays\n",
    "import matplotlib.pyplot as plt # data plotting\n",
    "import seaborn as sns # data visualization \n",
    "import scipy # scientific computing library\n",
    "%matplotlib inline"
   ]
  },
  {
   "cell_type": "markdown",
   "id": "e3aa777b",
   "metadata": {},
   "source": [
    "## Importation des librairies et de la base de données \"Iris\" pour la classification"
   ]
  },
  {
   "cell_type": "code",
   "execution_count": 341,
   "id": "b3b7e145",
   "metadata": {},
   "outputs": [],
   "source": [
    "from sklearn.datasets import load_iris\n",
    "from random import seed\n",
    "from random import randrange\n",
    "from csv import reader\n",
    "from math import sqrt\n",
    "from sklearn import preprocessing\n",
    "from prettytable import PrettyTable\n",
    "from sklearn.linear_model import SGDRegressor\n",
    "from sklearn import preprocessing\n",
    "from sklearn.metrics import mean_squared_error\n",
    "from sklearn.model_selection import train_test_split"
   ]
  },
  {
   "cell_type": "markdown",
   "id": "4332ab7b",
   "metadata": {},
   "source": [
    "### Préparation des données\n",
    "* sepal length in cm\n",
    "* sepal width in cm\n",
    "* petal length in cm\n",
    "* petal width in cm\n",
    "\n",
    "class:\n",
    "* Iris-Setosa\n",
    "* Iris-Versicolour\n",
    "* Iris-Virginica"
   ]
  },
  {
   "cell_type": "code",
   "execution_count": 652,
   "id": "7015d14e",
   "metadata": {},
   "outputs": [],
   "source": [
    "#X contient les données des variables explicatives, Y contient la variable cible (à prédire)\n",
    "X = load_iris().data\n",
    "Y = load_iris().target"
   ]
  },
  {
   "cell_type": "code",
   "execution_count": null,
   "id": "6d089e1b",
   "metadata": {},
   "outputs": [],
   "source": []
  },
  {
   "cell_type": "code",
   "execution_count": 531,
   "id": "80916034",
   "metadata": {},
   "outputs": [
    {
     "name": "stdout",
     "output_type": "stream",
     "text": [
      "(150, 4)\n",
      "(150,)\n"
     ]
    }
   ],
   "source": [
    "print(X.shape)\n",
    "print(Y.shape)"
   ]
  },
  {
   "cell_type": "code",
   "execution_count": 532,
   "id": "8796c970",
   "metadata": {},
   "outputs": [],
   "source": [
    "# split the data set into train and test\n",
    "X_train, X_test, y_train, y_test = train_test_split(X, Y, test_size=0.5, random_state=1)"
   ]
  },
  {
   "cell_type": "markdown",
   "id": "a8654402",
   "metadata": {},
   "source": [
    "Utilisation de 'Standard Scalar Function' pour la standardisation des données, on va l'appliquer seulement sur les données d'apprentissage parce que nous ne voulons pas que notre modèle voie ces données avant, afin d’éviter un surajustement."
   ]
  },
  {
   "cell_type": "code",
   "execution_count": 533,
   "id": "7807ecd3",
   "metadata": {},
   "outputs": [],
   "source": [
    "scaler = preprocessing.StandardScaler()\n",
    "X_train = scaler.fit_transform(X_train)\n",
    "X_test = scaler.transform(X_test)"
   ]
  },
  {
   "cell_type": "markdown",
   "id": "c8187760",
   "metadata": {},
   "source": [
    "#### Création des Dataframes avec Pandas"
   ]
  },
  {
   "cell_type": "code",
   "execution_count": 534,
   "id": "f828ef36",
   "metadata": {},
   "outputs": [],
   "source": [
    "X_train = pd.DataFrame(data = X_train, columns=load_iris().feature_names)\n",
    "X_train['class'] = list(y_train)  \n",
    "X_test = pd.DataFrame(data = X_test, columns=load_iris().feature_names)\n",
    "X_test['class'] = list(y_test)"
   ]
  },
  {
   "cell_type": "code",
   "execution_count": 535,
   "id": "a7553be0",
   "metadata": {},
   "outputs": [
    {
     "data": {
      "text/plain": [
       "(75, 5)"
      ]
     },
     "execution_count": 535,
     "metadata": {},
     "output_type": "execute_result"
    }
   ],
   "source": [
    "X_train.shape"
   ]
  },
  {
   "cell_type": "code",
   "execution_count": 536,
   "id": "9cdb6039",
   "metadata": {},
   "outputs": [
    {
     "data": {
      "text/plain": [
       "(75,)"
      ]
     },
     "execution_count": 536,
     "metadata": {},
     "output_type": "execute_result"
    }
   ],
   "source": [
    "y_train.shape"
   ]
  },
  {
   "cell_type": "markdown",
   "id": "03c403ff",
   "metadata": {},
   "source": [
    "#### Implementation de SGD Classifier avec SKlearn"
   ]
  },
  {
   "cell_type": "code",
   "execution_count": 17,
   "id": "51c08c32",
   "metadata": {},
   "outputs": [],
   "source": [
    "#Paramètres par défaut\n",
    "from sklearn.linear_model import SGDClassifier\n",
    "mdl = SGDClassifier()\n",
    "mdl.fit(X_train, y_train)\n",
    "y_pred = mdl.predict(X_test)"
   ]
  },
  {
   "cell_type": "markdown",
   "id": "fec4baff",
   "metadata": {},
   "source": [
    "#### Matrice de confusion"
   ]
  },
  {
   "cell_type": "code",
   "execution_count": 18,
   "id": "e3fa08cb",
   "metadata": {},
   "outputs": [
    {
     "data": {
      "text/plain": [
       "array([[24,  0,  0],\n",
       "       [ 0, 24,  0],\n",
       "       [ 0,  2, 25]], dtype=int64)"
      ]
     },
     "execution_count": 18,
     "metadata": {},
     "output_type": "execute_result"
    }
   ],
   "source": [
    "from sklearn.metrics import confusion_matrix\n",
    "confusion_matrix(y_test, y_pred)"
   ]
  },
  {
   "cell_type": "markdown",
   "id": "19570ca9",
   "metadata": {},
   "source": [
    "#### Score de précision"
   ]
  },
  {
   "cell_type": "code",
   "execution_count": 19,
   "id": "2348e47b",
   "metadata": {},
   "outputs": [
    {
     "name": "stdout",
     "output_type": "stream",
     "text": [
      "97.333 %\n"
     ]
    }
   ],
   "source": [
    "from sklearn.metrics import accuracy_score\n",
    "print(round(accuracy_score(y_test,y_pred)*100,3),'%')"
   ]
  },
  {
   "cell_type": "markdown",
   "id": "09ab2f11",
   "metadata": {},
   "source": [
    "#### Test du modèle pour différents paramètres (max_iter, tol, Shuffle)"
   ]
  },
  {
   "cell_type": "code",
   "execution_count": 40,
   "id": "b4d92860",
   "metadata": {},
   "outputs": [
    {
     "name": "stdout",
     "output_type": "stream",
     "text": [
      "[[24  0  0]\n",
      " [ 6 18  0]\n",
      " [ 0  0 27]]\n",
      "92.0 %\n"
     ]
    }
   ],
   "source": [
    "#max_iter=100,tol=0.1\n",
    "from sklearn.linear_model import SGDClassifier\n",
    "mdl = SGDClassifier(max_iter=100,tol=0.1)\n",
    "mdl.fit(X_train, y_train)\n",
    "y_pred = mdl.predict(X_test)\n",
    "from sklearn.metrics import confusion_matrix\n",
    "print(confusion_matrix(y_test, y_pred))\n",
    "from sklearn.metrics import accuracy_score\n",
    "print(round(accuracy_score(y_test,y_pred)*100,3),'%')"
   ]
  },
  {
   "cell_type": "code",
   "execution_count": 67,
   "id": "aaed2fc6",
   "metadata": {},
   "outputs": [
    {
     "name": "stdout",
     "output_type": "stream",
     "text": [
      "[[24  0  0]\n",
      " [ 0 24  0]\n",
      " [ 0  4 23]]\n",
      "94.667 %\n"
     ]
    }
   ],
   "source": [
    "#max_iter=100\n",
    "from sklearn.linear_model import SGDClassifier\n",
    "mdl = SGDClassifier(max_iter=100)\n",
    "mdl.fit(X_train, y_train)\n",
    "y_pred = mdl.predict(X_test)\n",
    "from sklearn.metrics import confusion_matrix\n",
    "print(confusion_matrix(y_test, y_pred))\n",
    "from sklearn.metrics import accuracy_score\n",
    "print(round(accuracy_score(y_test,y_pred)*100,3),'%')"
   ]
  },
  {
   "cell_type": "code",
   "execution_count": 74,
   "id": "95b2a4a0",
   "metadata": {},
   "outputs": [
    {
     "name": "stdout",
     "output_type": "stream",
     "text": [
      "[[24  0  0]\n",
      " [ 0 24  0]\n",
      " [ 0  3 24]]\n",
      "96.0 %\n"
     ]
    }
   ],
   "source": [
    "#max_iter=100,tol=1e-6\n",
    "from sklearn.linear_model import SGDClassifier\n",
    "mdl = SGDClassifier(max_iter=100,tol=1e-6)\n",
    "mdl.fit(X_train, y_train)\n",
    "y_pred = mdl.predict(X_test)\n",
    "from sklearn.metrics import confusion_matrix\n",
    "print(confusion_matrix(y_test, y_pred))\n",
    "from sklearn.metrics import accuracy_score\n",
    "print(round(accuracy_score(y_test,y_pred)*100,3),'%')"
   ]
  },
  {
   "cell_type": "code",
   "execution_count": 75,
   "id": "7244efeb",
   "metadata": {},
   "outputs": [
    {
     "name": "stdout",
     "output_type": "stream",
     "text": [
      "[[24  0  0]\n",
      " [ 0 24  0]\n",
      " [ 0  4 23]]\n",
      "94.667 %\n"
     ]
    }
   ],
   "source": [
    "#tol=0.1\n",
    "from sklearn.linear_model import SGDClassifier\n",
    "mdl = SGDClassifier(tol=0.1)\n",
    "mdl.fit(X_train, y_train)\n",
    "y_pred = mdl.predict(X_test)\n",
    "from sklearn.metrics import confusion_matrix\n",
    "print(confusion_matrix(y_test, y_pred))\n",
    "from sklearn.metrics import accuracy_score\n",
    "print(round(accuracy_score(y_test,y_pred)*100,3),'%')"
   ]
  },
  {
   "cell_type": "code",
   "execution_count": 76,
   "id": "93682fcc",
   "metadata": {},
   "outputs": [
    {
     "name": "stdout",
     "output_type": "stream",
     "text": [
      "[[24  0  0]\n",
      " [ 0 24  0]\n",
      " [ 0  1 26]]\n",
      "98.667 %\n"
     ]
    }
   ],
   "source": [
    "#tol=1e-6\n",
    "from sklearn.linear_model import SGDClassifier\n",
    "mdl = SGDClassifier(tol=1e-6)\n",
    "mdl.fit(X_train, y_train)\n",
    "y_pred = mdl.predict(X_test)\n",
    "from sklearn.metrics import confusion_matrix\n",
    "print(confusion_matrix(y_test, y_pred))\n",
    "from sklearn.metrics import accuracy_score\n",
    "print(round(accuracy_score(y_test,y_pred)*100,3),'%')"
   ]
  },
  {
   "cell_type": "code",
   "execution_count": 77,
   "id": "1faeedd7",
   "metadata": {},
   "outputs": [
    {
     "name": "stdout",
     "output_type": "stream",
     "text": [
      "[[24  0  0]\n",
      " [ 0 24  0]\n",
      " [ 0  1 26]]\n",
      "98.667 %\n"
     ]
    }
   ],
   "source": [
    "#max_iter=10000, tol=0.1\n",
    "from sklearn.linear_model import SGDClassifier\n",
    "mdl = SGDClassifier(max_iter=10000,tol=0.1)\n",
    "mdl.fit(X_train, y_train)\n",
    "y_pred = mdl.predict(X_test)\n",
    "from sklearn.metrics import confusion_matrix\n",
    "print(confusion_matrix(y_test, y_pred))\n",
    "from sklearn.metrics import accuracy_score\n",
    "print(round(accuracy_score(y_test,y_pred)*100,3),'%')"
   ]
  },
  {
   "cell_type": "code",
   "execution_count": 89,
   "id": "8fa1af47",
   "metadata": {},
   "outputs": [
    {
     "name": "stdout",
     "output_type": "stream",
     "text": [
      "[[24  0  0]\n",
      " [ 0 24  0]\n",
      " [ 0  1 26]]\n",
      "98.667 %\n"
     ]
    }
   ],
   "source": [
    "#max_iter=10000\n",
    "from sklearn.linear_model import SGDClassifier\n",
    "mdl = SGDClassifier(max_iter=10000)\n",
    "mdl.fit(X_train, y_train)\n",
    "y_pred = mdl.predict(X_test)\n",
    "from sklearn.metrics import confusion_matrix\n",
    "print(confusion_matrix(y_test, y_pred))\n",
    "from sklearn.metrics import accuracy_score\n",
    "print(round(accuracy_score(y_test,y_pred)*100,3),'%')"
   ]
  },
  {
   "cell_type": "code",
   "execution_count": 88,
   "id": "296f0dfd",
   "metadata": {},
   "outputs": [
    {
     "name": "stdout",
     "output_type": "stream",
     "text": [
      "[[24  0  0]\n",
      " [ 0 24  0]\n",
      " [ 0  0 27]]\n",
      "100.0 %\n"
     ]
    }
   ],
   "source": [
    "#max_iter=10000, tol=1e-6\n",
    "from sklearn.linear_model import SGDClassifier\n",
    "mdl = SGDClassifier(max_iter=10000,tol=1e-6)\n",
    "mdl.fit(X_train, y_train)\n",
    "y_pred = mdl.predict(X_test)\n",
    "from sklearn.metrics import confusion_matrix\n",
    "print(confusion_matrix(y_test, y_pred))\n",
    "from sklearn.metrics import accuracy_score\n",
    "print(round(accuracy_score(y_test,y_pred)*100,3),'%')"
   ]
  },
  {
   "cell_type": "code",
   "execution_count": 91,
   "id": "0e62799d",
   "metadata": {},
   "outputs": [
    {
     "name": "stdout",
     "output_type": "stream",
     "text": [
      "[[24  0  0]\n",
      " [ 0 24  0]\n",
      " [ 0  0 27]]\n",
      "100.0 %\n"
     ]
    }
   ],
   "source": [
    "#shuffle = False\n",
    "from sklearn.linear_model import SGDClassifier\n",
    "mdl = SGDClassifier(shuffle = False)\n",
    "mdl.fit(X_train, y_train)\n",
    "y_pred = mdl.predict(X_test)\n",
    "from sklearn.metrics import confusion_matrix\n",
    "print(confusion_matrix(y_test, y_pred))\n",
    "from sklearn.metrics import accuracy_score\n",
    "print(round(accuracy_score(y_test,y_pred)*100,3),'%')"
   ]
  },
  {
   "cell_type": "code",
   "execution_count": 92,
   "id": "b83c7143",
   "metadata": {},
   "outputs": [
    {
     "name": "stdout",
     "output_type": "stream",
     "text": [
      "[[24  0  0]\n",
      " [ 0 24  0]\n",
      " [ 0  4 23]]\n",
      "94.667 %\n"
     ]
    }
   ],
   "source": [
    "#shuffle = False, max_iter=100,tol=0.1 \n",
    "from sklearn.linear_model import SGDClassifier\n",
    "mdl = SGDClassifier(max_iter=100,tol=0.1,shuffle = False)\n",
    "mdl.fit(X_train, y_train)\n",
    "y_pred = mdl.predict(X_test)\n",
    "from sklearn.metrics import confusion_matrix\n",
    "print(confusion_matrix(y_test, y_pred))\n",
    "from sklearn.metrics import accuracy_score\n",
    "print(round(accuracy_score(y_test,y_pred)*100,3),'%')"
   ]
  },
  {
   "cell_type": "code",
   "execution_count": 93,
   "id": "29a4c7a7",
   "metadata": {},
   "outputs": [
    {
     "name": "stdout",
     "output_type": "stream",
     "text": [
      "[[24  0  0]\n",
      " [ 0 24  0]\n",
      " [ 0  0 27]]\n",
      "100.0 %\n"
     ]
    }
   ],
   "source": [
    "#shuffle = False, max_iter=100\n",
    "from sklearn.linear_model import SGDClassifier\n",
    "mdl = SGDClassifier(max_iter=100, shuffle=False)\n",
    "mdl.fit(X_train, y_train)\n",
    "y_pred = mdl.predict(X_test)\n",
    "from sklearn.metrics import confusion_matrix\n",
    "print(confusion_matrix(y_test, y_pred))\n",
    "from sklearn.metrics import accuracy_score\n",
    "print(round(accuracy_score(y_test,y_pred)*100,3),'%')"
   ]
  },
  {
   "cell_type": "code",
   "execution_count": 94,
   "id": "b80dc0d3",
   "metadata": {},
   "outputs": [
    {
     "name": "stdout",
     "output_type": "stream",
     "text": [
      "[[24  0  0]\n",
      " [ 0 24  0]\n",
      " [ 0  0 27]]\n",
      "100.0 %\n"
     ]
    }
   ],
   "source": [
    "#shuffle = Falsemax_iter=100,tol=1e-6\n",
    "from sklearn.linear_model import SGDClassifier\n",
    "mdl = SGDClassifier(max_iter=100,tol=1e-6,shuffle = False)\n",
    "mdl.fit(X_train, y_train)\n",
    "y_pred = mdl.predict(X_test)\n",
    "from sklearn.metrics import confusion_matrix\n",
    "print(confusion_matrix(y_test, y_pred))\n",
    "from sklearn.metrics import accuracy_score\n",
    "print(round(accuracy_score(y_test,y_pred)*100,3),'%')"
   ]
  },
  {
   "cell_type": "code",
   "execution_count": 96,
   "id": "ea4f5a25",
   "metadata": {},
   "outputs": [
    {
     "name": "stdout",
     "output_type": "stream",
     "text": [
      "[[24  0  0]\n",
      " [ 0 24  0]\n",
      " [ 0  4 23]]\n",
      "94.667 %\n"
     ]
    }
   ],
   "source": [
    "#shuffle = False, tol=0.1\n",
    "from sklearn.linear_model import SGDClassifier\n",
    "mdl = SGDClassifier(tol=0.1,shuffle=False)\n",
    "mdl.fit(X_train, y_train)\n",
    "y_pred = mdl.predict(X_test)\n",
    "from sklearn.metrics import confusion_matrix\n",
    "print(confusion_matrix(y_test, y_pred))\n",
    "from sklearn.metrics import accuracy_score\n",
    "print(round(accuracy_score(y_test,y_pred)*100,3),'%')"
   ]
  },
  {
   "cell_type": "code",
   "execution_count": 97,
   "id": "c2fdfbae",
   "metadata": {},
   "outputs": [
    {
     "name": "stdout",
     "output_type": "stream",
     "text": [
      "[[24  0  0]\n",
      " [ 0 24  0]\n",
      " [ 0  0 27]]\n",
      "100.0 %\n"
     ]
    }
   ],
   "source": [
    "#shuffle = False, tol=1e-6\n",
    "from sklearn.linear_model import SGDClassifier\n",
    "mdl = SGDClassifier(tol=1e-6,shuffle=False)\n",
    "mdl.fit(X_train, y_train)\n",
    "y_pred = mdl.predict(X_test)\n",
    "from sklearn.metrics import confusion_matrix\n",
    "print(confusion_matrix(y_test, y_pred))\n",
    "from sklearn.metrics import accuracy_score\n",
    "print(round(accuracy_score(y_test,y_pred)*100,3),'%')"
   ]
  },
  {
   "cell_type": "code",
   "execution_count": 98,
   "id": "ebbca27e",
   "metadata": {},
   "outputs": [
    {
     "name": "stdout",
     "output_type": "stream",
     "text": [
      "[[24  0  0]\n",
      " [ 0 24  0]\n",
      " [ 0  4 23]]\n",
      "94.667 %\n"
     ]
    }
   ],
   "source": [
    "#shuffle=False, max_iter=10000, tol=0.1\n",
    "from sklearn.linear_model import SGDClassifier\n",
    "mdl = SGDClassifier(max_iter=10000,tol=0.1, shuffle =False)\n",
    "mdl.fit(X_train, y_train)\n",
    "y_pred = mdl.predict(X_test)\n",
    "from sklearn.metrics import confusion_matrix\n",
    "print(confusion_matrix(y_test, y_pred))\n",
    "from sklearn.metrics import accuracy_score\n",
    "print(round(accuracy_score(y_test,y_pred)*100,3),'%')"
   ]
  },
  {
   "cell_type": "code",
   "execution_count": 99,
   "id": "e8708693",
   "metadata": {},
   "outputs": [
    {
     "name": "stdout",
     "output_type": "stream",
     "text": [
      "[[24  0  0]\n",
      " [ 0 24  0]\n",
      " [ 0  0 27]]\n",
      "100.0 %\n"
     ]
    }
   ],
   "source": [
    "#shuffle=False, max_iter=10000\n",
    "from sklearn.linear_model import SGDClassifier\n",
    "mdl = SGDClassifier(max_iter=10000, shuffle =False)\n",
    "mdl.fit(X_train, y_train)\n",
    "y_pred = mdl.predict(X_test)\n",
    "from sklearn.metrics import confusion_matrix\n",
    "print(confusion_matrix(y_test, y_pred))\n",
    "from sklearn.metrics import accuracy_score\n",
    "print(round(accuracy_score(y_test,y_pred)*100,3),'%')"
   ]
  },
  {
   "cell_type": "code",
   "execution_count": 100,
   "id": "d676367b",
   "metadata": {},
   "outputs": [
    {
     "name": "stdout",
     "output_type": "stream",
     "text": [
      "[[24  0  0]\n",
      " [ 0 24  0]\n",
      " [ 0  0 27]]\n",
      "100.0 %\n"
     ]
    }
   ],
   "source": [
    "#shuffle=False, max_iter=10000, tol=1e-6\n",
    "from sklearn.linear_model import SGDClassifier\n",
    "mdl = SGDClassifier(max_iter=10000,tol=1e-6, shuffle =False)\n",
    "mdl.fit(X_train, y_train)\n",
    "y_pred = mdl.predict(X_test)\n",
    "from sklearn.metrics import confusion_matrix\n",
    "print(confusion_matrix(y_test, y_pred))\n",
    "from sklearn.metrics import accuracy_score\n",
    "print(round(accuracy_score(y_test,y_pred)*100,3),'%')"
   ]
  },
  {
   "cell_type": "markdown",
   "id": "bc2836d7",
   "metadata": {},
   "source": [
    "### Importation de la base de données \"chronic_kidney_disease\" pour une deuxième classification"
   ]
  },
  {
   "cell_type": "code",
   "execution_count": 806,
   "id": "b4e03c00",
   "metadata": {},
   "outputs": [
    {
     "name": "stdout",
     "output_type": "stream",
     "text": [
      "(400, 25)\n",
      "Index(['age', 'bp', 'sg', 'al', 'su', 'rbc', 'pc', 'pcc', 'ba', 'bgr', 'bu',\n",
      "       'sc', 'sod', 'pot', 'hemo', 'pcv', 'wbcc', 'rbcc', 'htn', 'dm', 'cad',\n",
      "       'appet', 'pe', 'ane', 'class'],\n",
      "      dtype='object')\n"
     ]
    }
   ],
   "source": [
    "df = pd.read_csv('./chronic_kidney_disease.csv', header=0)\n",
    "print(df.shape)\n",
    "print(df.columns)"
   ]
  },
  {
   "cell_type": "markdown",
   "id": "561fbed1",
   "metadata": {},
   "source": [
    "### Characteristics of the data"
   ]
  },
  {
   "cell_type": "markdown",
   "id": "83920694",
   "metadata": {},
   "source": [
    "1.Age(numerical)  age in years \n",
    "\n",
    "2.Blood Pressure(numerical)  bp in mm/Hg \n",
    "\n",
    "3.Specific Gravity(nominal??)  sg - (1.005,1.010,1.015,1.020,1.025) \n",
    "\n",
    "4.Albumin(nominal??)  al - (0,1,2,3,4,5) \n",
    "\n",
    "5.Sugar(nominal??)  su - (0,1,2,3,4,5) \n",
    "\n",
    "6.Red Blood Cells(nominal)  rbc - (normal,abnormal) \n",
    "\n",
    "7.Pus Cell (nominal)  pc - (normal,abnormal) \n",
    "\n",
    "8.Pus Cell clumps(nominal)  pcc - (present,notpresent) \n",
    "\n",
    "9.Bacteria(nominal)  ba - (present,notpresent) \n",
    "\n",
    "10.Blood Glucose Random(numerical)\t bgr in mgs/dl \n",
    "\n",
    "11.Blood Urea(numerical)   bu in mgs/dl\n",
    "\n",
    "12.Serum Creatinine(numerical)\t sc in mgs/dl\n",
    "\n",
    "13.Sodium(numerical)  sod in mEq/L \n",
    "\n",
    "14.Potassium(numerical)\t pot in mEq/L \n",
    "\n",
    "15.Hemoglobin(numerical)  hemo in gms \n",
    "\n",
    "16.Packed Cell Volume(numerical) \n",
    "\n",
    "17.White Blood Cell Count(numerical)  wc in cells/cumm \n",
    "\n",
    "18.Red Blood Cell Count(numerical)\t rc in millions/cmm \n",
    "\n",
    "19.Hypertension(nominal)\t htn - (yes,no) \n",
    "\n",
    "20.Diabetes Mellitus(nominal)\t dm - (yes,no) \n",
    "\n",
    "21.Coronary Artery Disease(nominal)  cad - (yes,no) \n",
    "\n",
    "22.Appetite(nominal)\t appet - (good,poor) \n",
    "\n",
    "23.Pedal Edema(nominal)  pe - (yes,no)\t\n",
    "\n",
    "24.Anemia(nominal)  ane - (yes,no) \n",
    "\n",
    "25.class(nominal)(target)  (ckd,notckd)"
   ]
  },
  {
   "cell_type": "markdown",
   "id": "ffdc2a93",
   "metadata": {},
   "source": [
    "### Check the head of the data"
   ]
  },
  {
   "cell_type": "code",
   "execution_count": 807,
   "id": "a573f952",
   "metadata": {},
   "outputs": [
    {
     "data": {
      "text/html": [
       "<div>\n",
       "<style scoped>\n",
       "    .dataframe tbody tr th:only-of-type {\n",
       "        vertical-align: middle;\n",
       "    }\n",
       "\n",
       "    .dataframe tbody tr th {\n",
       "        vertical-align: top;\n",
       "    }\n",
       "\n",
       "    .dataframe thead th {\n",
       "        text-align: right;\n",
       "    }\n",
       "</style>\n",
       "<table border=\"1\" class=\"dataframe\">\n",
       "  <thead>\n",
       "    <tr style=\"text-align: right;\">\n",
       "      <th></th>\n",
       "      <th>age</th>\n",
       "      <th>bp</th>\n",
       "      <th>sg</th>\n",
       "      <th>al</th>\n",
       "      <th>su</th>\n",
       "      <th>rbc</th>\n",
       "      <th>pc</th>\n",
       "      <th>pcc</th>\n",
       "      <th>ba</th>\n",
       "      <th>bgr</th>\n",
       "      <th>...</th>\n",
       "      <th>pcv</th>\n",
       "      <th>wbcc</th>\n",
       "      <th>rbcc</th>\n",
       "      <th>htn</th>\n",
       "      <th>dm</th>\n",
       "      <th>cad</th>\n",
       "      <th>appet</th>\n",
       "      <th>pe</th>\n",
       "      <th>ane</th>\n",
       "      <th>class</th>\n",
       "    </tr>\n",
       "  </thead>\n",
       "  <tbody>\n",
       "    <tr>\n",
       "      <th>0</th>\n",
       "      <td>48.0</td>\n",
       "      <td>80.0</td>\n",
       "      <td>1.020</td>\n",
       "      <td>1.0</td>\n",
       "      <td>0.0</td>\n",
       "      <td>NaN</td>\n",
       "      <td>normal</td>\n",
       "      <td>notpresent</td>\n",
       "      <td>notpresent</td>\n",
       "      <td>121.0</td>\n",
       "      <td>...</td>\n",
       "      <td>44</td>\n",
       "      <td>7800</td>\n",
       "      <td>5.2</td>\n",
       "      <td>yes</td>\n",
       "      <td>yes</td>\n",
       "      <td>no</td>\n",
       "      <td>good</td>\n",
       "      <td>no</td>\n",
       "      <td>no</td>\n",
       "      <td>ckd</td>\n",
       "    </tr>\n",
       "    <tr>\n",
       "      <th>1</th>\n",
       "      <td>7.0</td>\n",
       "      <td>50.0</td>\n",
       "      <td>1.020</td>\n",
       "      <td>4.0</td>\n",
       "      <td>0.0</td>\n",
       "      <td>NaN</td>\n",
       "      <td>normal</td>\n",
       "      <td>notpresent</td>\n",
       "      <td>notpresent</td>\n",
       "      <td>NaN</td>\n",
       "      <td>...</td>\n",
       "      <td>38</td>\n",
       "      <td>6000</td>\n",
       "      <td>NaN</td>\n",
       "      <td>no</td>\n",
       "      <td>no</td>\n",
       "      <td>no</td>\n",
       "      <td>good</td>\n",
       "      <td>no</td>\n",
       "      <td>no</td>\n",
       "      <td>ckd</td>\n",
       "    </tr>\n",
       "    <tr>\n",
       "      <th>2</th>\n",
       "      <td>62.0</td>\n",
       "      <td>80.0</td>\n",
       "      <td>1.010</td>\n",
       "      <td>2.0</td>\n",
       "      <td>3.0</td>\n",
       "      <td>normal</td>\n",
       "      <td>normal</td>\n",
       "      <td>notpresent</td>\n",
       "      <td>notpresent</td>\n",
       "      <td>423.0</td>\n",
       "      <td>...</td>\n",
       "      <td>31</td>\n",
       "      <td>7500</td>\n",
       "      <td>NaN</td>\n",
       "      <td>no</td>\n",
       "      <td>yes</td>\n",
       "      <td>no</td>\n",
       "      <td>poor</td>\n",
       "      <td>no</td>\n",
       "      <td>yes</td>\n",
       "      <td>ckd</td>\n",
       "    </tr>\n",
       "    <tr>\n",
       "      <th>3</th>\n",
       "      <td>48.0</td>\n",
       "      <td>70.0</td>\n",
       "      <td>1.005</td>\n",
       "      <td>4.0</td>\n",
       "      <td>0.0</td>\n",
       "      <td>normal</td>\n",
       "      <td>abnormal</td>\n",
       "      <td>present</td>\n",
       "      <td>notpresent</td>\n",
       "      <td>117.0</td>\n",
       "      <td>...</td>\n",
       "      <td>32</td>\n",
       "      <td>6700</td>\n",
       "      <td>3.9</td>\n",
       "      <td>yes</td>\n",
       "      <td>no</td>\n",
       "      <td>no</td>\n",
       "      <td>poor</td>\n",
       "      <td>yes</td>\n",
       "      <td>yes</td>\n",
       "      <td>ckd</td>\n",
       "    </tr>\n",
       "    <tr>\n",
       "      <th>4</th>\n",
       "      <td>51.0</td>\n",
       "      <td>80.0</td>\n",
       "      <td>1.010</td>\n",
       "      <td>2.0</td>\n",
       "      <td>0.0</td>\n",
       "      <td>normal</td>\n",
       "      <td>normal</td>\n",
       "      <td>notpresent</td>\n",
       "      <td>notpresent</td>\n",
       "      <td>106.0</td>\n",
       "      <td>...</td>\n",
       "      <td>35</td>\n",
       "      <td>7300</td>\n",
       "      <td>4.6</td>\n",
       "      <td>no</td>\n",
       "      <td>no</td>\n",
       "      <td>no</td>\n",
       "      <td>good</td>\n",
       "      <td>no</td>\n",
       "      <td>no</td>\n",
       "      <td>ckd</td>\n",
       "    </tr>\n",
       "  </tbody>\n",
       "</table>\n",
       "<p>5 rows × 25 columns</p>\n",
       "</div>"
      ],
      "text/plain": [
       "    age    bp     sg   al   su     rbc        pc         pcc          ba  \\\n",
       "0  48.0  80.0  1.020  1.0  0.0     NaN    normal  notpresent  notpresent   \n",
       "1   7.0  50.0  1.020  4.0  0.0     NaN    normal  notpresent  notpresent   \n",
       "2  62.0  80.0  1.010  2.0  3.0  normal    normal  notpresent  notpresent   \n",
       "3  48.0  70.0  1.005  4.0  0.0  normal  abnormal     present  notpresent   \n",
       "4  51.0  80.0  1.010  2.0  0.0  normal    normal  notpresent  notpresent   \n",
       "\n",
       "     bgr  ...  pcv  wbcc  rbcc  htn   dm cad appet   pe  ane class  \n",
       "0  121.0  ...   44  7800   5.2  yes  yes  no  good   no   no   ckd  \n",
       "1    NaN  ...   38  6000   NaN   no   no  no  good   no   no   ckd  \n",
       "2  423.0  ...   31  7500   NaN   no  yes  no  poor   no  yes   ckd  \n",
       "3  117.0  ...   32  6700   3.9  yes   no  no  poor  yes  yes   ckd  \n",
       "4  106.0  ...   35  7300   4.6   no   no  no  good   no   no   ckd  \n",
       "\n",
       "[5 rows x 25 columns]"
      ]
     },
     "execution_count": 807,
     "metadata": {},
     "output_type": "execute_result"
    }
   ],
   "source": [
    "df.head()"
   ]
  },
  {
   "cell_type": "markdown",
   "id": "ebb9c832",
   "metadata": {},
   "source": [
    "### Check the info() and describe() methods on the data."
   ]
  },
  {
   "cell_type": "code",
   "execution_count": 808,
   "id": "7104378d",
   "metadata": {},
   "outputs": [
    {
     "data": {
      "text/plain": [
       "age        9\n",
       "bp        12\n",
       "sg        47\n",
       "al        46\n",
       "su        49\n",
       "rbc      152\n",
       "pc        65\n",
       "pcc        4\n",
       "ba         4\n",
       "bgr       44\n",
       "bu        19\n",
       "sc        17\n",
       "sod       87\n",
       "pot       88\n",
       "hemo      52\n",
       "pcv       70\n",
       "wbcc     105\n",
       "rbcc     130\n",
       "htn        2\n",
       "dm         2\n",
       "cad        2\n",
       "appet      1\n",
       "pe         1\n",
       "ane        1\n",
       "class      0\n",
       "dtype: int64"
      ]
     },
     "execution_count": 808,
     "metadata": {},
     "output_type": "execute_result"
    }
   ],
   "source": [
    "df.isna().sum()"
   ]
  },
  {
   "cell_type": "code",
   "execution_count": 809,
   "id": "f2e7549f",
   "metadata": {},
   "outputs": [
    {
     "data": {
      "text/html": [
       "<div>\n",
       "<style scoped>\n",
       "    .dataframe tbody tr th:only-of-type {\n",
       "        vertical-align: middle;\n",
       "    }\n",
       "\n",
       "    .dataframe tbody tr th {\n",
       "        vertical-align: top;\n",
       "    }\n",
       "\n",
       "    .dataframe thead th {\n",
       "        text-align: right;\n",
       "    }\n",
       "</style>\n",
       "<table border=\"1\" class=\"dataframe\">\n",
       "  <thead>\n",
       "    <tr style=\"text-align: right;\">\n",
       "      <th></th>\n",
       "      <th>age</th>\n",
       "      <th>bp</th>\n",
       "      <th>sg</th>\n",
       "      <th>al</th>\n",
       "      <th>su</th>\n",
       "      <th>bgr</th>\n",
       "      <th>bu</th>\n",
       "      <th>sc</th>\n",
       "      <th>sod</th>\n",
       "      <th>pot</th>\n",
       "      <th>hemo</th>\n",
       "    </tr>\n",
       "  </thead>\n",
       "  <tbody>\n",
       "    <tr>\n",
       "      <th>count</th>\n",
       "      <td>391.000000</td>\n",
       "      <td>388.000000</td>\n",
       "      <td>353.000000</td>\n",
       "      <td>354.000000</td>\n",
       "      <td>351.000000</td>\n",
       "      <td>356.000000</td>\n",
       "      <td>381.000000</td>\n",
       "      <td>383.000000</td>\n",
       "      <td>313.000000</td>\n",
       "      <td>312.000000</td>\n",
       "      <td>348.000000</td>\n",
       "    </tr>\n",
       "    <tr>\n",
       "      <th>mean</th>\n",
       "      <td>51.483376</td>\n",
       "      <td>76.469072</td>\n",
       "      <td>1.017408</td>\n",
       "      <td>1.016949</td>\n",
       "      <td>0.450142</td>\n",
       "      <td>148.036517</td>\n",
       "      <td>57.425722</td>\n",
       "      <td>3.072454</td>\n",
       "      <td>137.528754</td>\n",
       "      <td>4.627244</td>\n",
       "      <td>12.526437</td>\n",
       "    </tr>\n",
       "    <tr>\n",
       "      <th>std</th>\n",
       "      <td>17.169714</td>\n",
       "      <td>13.683637</td>\n",
       "      <td>0.005717</td>\n",
       "      <td>1.352679</td>\n",
       "      <td>1.099191</td>\n",
       "      <td>79.281714</td>\n",
       "      <td>50.503006</td>\n",
       "      <td>5.741126</td>\n",
       "      <td>10.408752</td>\n",
       "      <td>3.193904</td>\n",
       "      <td>2.912587</td>\n",
       "    </tr>\n",
       "    <tr>\n",
       "      <th>min</th>\n",
       "      <td>2.000000</td>\n",
       "      <td>50.000000</td>\n",
       "      <td>1.005000</td>\n",
       "      <td>0.000000</td>\n",
       "      <td>0.000000</td>\n",
       "      <td>22.000000</td>\n",
       "      <td>1.500000</td>\n",
       "      <td>0.400000</td>\n",
       "      <td>4.500000</td>\n",
       "      <td>2.500000</td>\n",
       "      <td>3.100000</td>\n",
       "    </tr>\n",
       "    <tr>\n",
       "      <th>25%</th>\n",
       "      <td>42.000000</td>\n",
       "      <td>70.000000</td>\n",
       "      <td>1.010000</td>\n",
       "      <td>0.000000</td>\n",
       "      <td>0.000000</td>\n",
       "      <td>99.000000</td>\n",
       "      <td>27.000000</td>\n",
       "      <td>0.900000</td>\n",
       "      <td>135.000000</td>\n",
       "      <td>3.800000</td>\n",
       "      <td>10.300000</td>\n",
       "    </tr>\n",
       "    <tr>\n",
       "      <th>50%</th>\n",
       "      <td>55.000000</td>\n",
       "      <td>80.000000</td>\n",
       "      <td>1.020000</td>\n",
       "      <td>0.000000</td>\n",
       "      <td>0.000000</td>\n",
       "      <td>121.000000</td>\n",
       "      <td>42.000000</td>\n",
       "      <td>1.300000</td>\n",
       "      <td>138.000000</td>\n",
       "      <td>4.400000</td>\n",
       "      <td>12.650000</td>\n",
       "    </tr>\n",
       "    <tr>\n",
       "      <th>75%</th>\n",
       "      <td>64.500000</td>\n",
       "      <td>80.000000</td>\n",
       "      <td>1.020000</td>\n",
       "      <td>2.000000</td>\n",
       "      <td>0.000000</td>\n",
       "      <td>163.000000</td>\n",
       "      <td>66.000000</td>\n",
       "      <td>2.800000</td>\n",
       "      <td>142.000000</td>\n",
       "      <td>4.900000</td>\n",
       "      <td>15.000000</td>\n",
       "    </tr>\n",
       "    <tr>\n",
       "      <th>max</th>\n",
       "      <td>90.000000</td>\n",
       "      <td>180.000000</td>\n",
       "      <td>1.025000</td>\n",
       "      <td>5.000000</td>\n",
       "      <td>5.000000</td>\n",
       "      <td>490.000000</td>\n",
       "      <td>391.000000</td>\n",
       "      <td>76.000000</td>\n",
       "      <td>163.000000</td>\n",
       "      <td>47.000000</td>\n",
       "      <td>17.800000</td>\n",
       "    </tr>\n",
       "  </tbody>\n",
       "</table>\n",
       "</div>"
      ],
      "text/plain": [
       "              age          bp          sg          al          su         bgr  \\\n",
       "count  391.000000  388.000000  353.000000  354.000000  351.000000  356.000000   \n",
       "mean    51.483376   76.469072    1.017408    1.016949    0.450142  148.036517   \n",
       "std     17.169714   13.683637    0.005717    1.352679    1.099191   79.281714   \n",
       "min      2.000000   50.000000    1.005000    0.000000    0.000000   22.000000   \n",
       "25%     42.000000   70.000000    1.010000    0.000000    0.000000   99.000000   \n",
       "50%     55.000000   80.000000    1.020000    0.000000    0.000000  121.000000   \n",
       "75%     64.500000   80.000000    1.020000    2.000000    0.000000  163.000000   \n",
       "max     90.000000  180.000000    1.025000    5.000000    5.000000  490.000000   \n",
       "\n",
       "               bu          sc         sod         pot        hemo  \n",
       "count  381.000000  383.000000  313.000000  312.000000  348.000000  \n",
       "mean    57.425722    3.072454  137.528754    4.627244   12.526437  \n",
       "std     50.503006    5.741126   10.408752    3.193904    2.912587  \n",
       "min      1.500000    0.400000    4.500000    2.500000    3.100000  \n",
       "25%     27.000000    0.900000  135.000000    3.800000   10.300000  \n",
       "50%     42.000000    1.300000  138.000000    4.400000   12.650000  \n",
       "75%     66.000000    2.800000  142.000000    4.900000   15.000000  \n",
       "max    391.000000   76.000000  163.000000   47.000000   17.800000  "
      ]
     },
     "execution_count": 809,
     "metadata": {},
     "output_type": "execute_result"
    }
   ],
   "source": [
    "df.describe()"
   ]
  },
  {
   "cell_type": "code",
   "execution_count": 810,
   "id": "67db46d6",
   "metadata": {},
   "outputs": [],
   "source": [
    "#X contient les données des variables explicatives, Y contient la variable cible (à prédire)\n",
    "X = df.drop(\"class\", axis =1)\n",
    "Y = df[\"class\"]"
   ]
  },
  {
   "cell_type": "code",
   "execution_count": 811,
   "id": "b34fe5f2",
   "metadata": {},
   "outputs": [
    {
     "data": {
      "text/html": [
       "<div>\n",
       "<style scoped>\n",
       "    .dataframe tbody tr th:only-of-type {\n",
       "        vertical-align: middle;\n",
       "    }\n",
       "\n",
       "    .dataframe tbody tr th {\n",
       "        vertical-align: top;\n",
       "    }\n",
       "\n",
       "    .dataframe thead th {\n",
       "        text-align: right;\n",
       "    }\n",
       "</style>\n",
       "<table border=\"1\" class=\"dataframe\">\n",
       "  <thead>\n",
       "    <tr style=\"text-align: right;\">\n",
       "      <th></th>\n",
       "      <th>age</th>\n",
       "      <th>bp</th>\n",
       "      <th>sg</th>\n",
       "      <th>al</th>\n",
       "      <th>su</th>\n",
       "      <th>rbc</th>\n",
       "      <th>pc</th>\n",
       "      <th>pcc</th>\n",
       "      <th>ba</th>\n",
       "      <th>bgr</th>\n",
       "      <th>...</th>\n",
       "      <th>hemo</th>\n",
       "      <th>pcv</th>\n",
       "      <th>wbcc</th>\n",
       "      <th>rbcc</th>\n",
       "      <th>htn</th>\n",
       "      <th>dm</th>\n",
       "      <th>cad</th>\n",
       "      <th>appet</th>\n",
       "      <th>pe</th>\n",
       "      <th>ane</th>\n",
       "    </tr>\n",
       "  </thead>\n",
       "  <tbody>\n",
       "    <tr>\n",
       "      <th>0</th>\n",
       "      <td>48.0</td>\n",
       "      <td>80.0</td>\n",
       "      <td>1.020</td>\n",
       "      <td>1.0</td>\n",
       "      <td>0.0</td>\n",
       "      <td>NaN</td>\n",
       "      <td>normal</td>\n",
       "      <td>notpresent</td>\n",
       "      <td>notpresent</td>\n",
       "      <td>121.0</td>\n",
       "      <td>...</td>\n",
       "      <td>15.4</td>\n",
       "      <td>44</td>\n",
       "      <td>7800</td>\n",
       "      <td>5.2</td>\n",
       "      <td>yes</td>\n",
       "      <td>yes</td>\n",
       "      <td>no</td>\n",
       "      <td>good</td>\n",
       "      <td>no</td>\n",
       "      <td>no</td>\n",
       "    </tr>\n",
       "    <tr>\n",
       "      <th>1</th>\n",
       "      <td>7.0</td>\n",
       "      <td>50.0</td>\n",
       "      <td>1.020</td>\n",
       "      <td>4.0</td>\n",
       "      <td>0.0</td>\n",
       "      <td>NaN</td>\n",
       "      <td>normal</td>\n",
       "      <td>notpresent</td>\n",
       "      <td>notpresent</td>\n",
       "      <td>NaN</td>\n",
       "      <td>...</td>\n",
       "      <td>11.3</td>\n",
       "      <td>38</td>\n",
       "      <td>6000</td>\n",
       "      <td>NaN</td>\n",
       "      <td>no</td>\n",
       "      <td>no</td>\n",
       "      <td>no</td>\n",
       "      <td>good</td>\n",
       "      <td>no</td>\n",
       "      <td>no</td>\n",
       "    </tr>\n",
       "    <tr>\n",
       "      <th>2</th>\n",
       "      <td>62.0</td>\n",
       "      <td>80.0</td>\n",
       "      <td>1.010</td>\n",
       "      <td>2.0</td>\n",
       "      <td>3.0</td>\n",
       "      <td>normal</td>\n",
       "      <td>normal</td>\n",
       "      <td>notpresent</td>\n",
       "      <td>notpresent</td>\n",
       "      <td>423.0</td>\n",
       "      <td>...</td>\n",
       "      <td>9.6</td>\n",
       "      <td>31</td>\n",
       "      <td>7500</td>\n",
       "      <td>NaN</td>\n",
       "      <td>no</td>\n",
       "      <td>yes</td>\n",
       "      <td>no</td>\n",
       "      <td>poor</td>\n",
       "      <td>no</td>\n",
       "      <td>yes</td>\n",
       "    </tr>\n",
       "    <tr>\n",
       "      <th>3</th>\n",
       "      <td>48.0</td>\n",
       "      <td>70.0</td>\n",
       "      <td>1.005</td>\n",
       "      <td>4.0</td>\n",
       "      <td>0.0</td>\n",
       "      <td>normal</td>\n",
       "      <td>abnormal</td>\n",
       "      <td>present</td>\n",
       "      <td>notpresent</td>\n",
       "      <td>117.0</td>\n",
       "      <td>...</td>\n",
       "      <td>11.2</td>\n",
       "      <td>32</td>\n",
       "      <td>6700</td>\n",
       "      <td>3.9</td>\n",
       "      <td>yes</td>\n",
       "      <td>no</td>\n",
       "      <td>no</td>\n",
       "      <td>poor</td>\n",
       "      <td>yes</td>\n",
       "      <td>yes</td>\n",
       "    </tr>\n",
       "    <tr>\n",
       "      <th>4</th>\n",
       "      <td>51.0</td>\n",
       "      <td>80.0</td>\n",
       "      <td>1.010</td>\n",
       "      <td>2.0</td>\n",
       "      <td>0.0</td>\n",
       "      <td>normal</td>\n",
       "      <td>normal</td>\n",
       "      <td>notpresent</td>\n",
       "      <td>notpresent</td>\n",
       "      <td>106.0</td>\n",
       "      <td>...</td>\n",
       "      <td>11.6</td>\n",
       "      <td>35</td>\n",
       "      <td>7300</td>\n",
       "      <td>4.6</td>\n",
       "      <td>no</td>\n",
       "      <td>no</td>\n",
       "      <td>no</td>\n",
       "      <td>good</td>\n",
       "      <td>no</td>\n",
       "      <td>no</td>\n",
       "    </tr>\n",
       "  </tbody>\n",
       "</table>\n",
       "<p>5 rows × 24 columns</p>\n",
       "</div>"
      ],
      "text/plain": [
       "    age    bp     sg   al   su     rbc        pc         pcc          ba  \\\n",
       "0  48.0  80.0  1.020  1.0  0.0     NaN    normal  notpresent  notpresent   \n",
       "1   7.0  50.0  1.020  4.0  0.0     NaN    normal  notpresent  notpresent   \n",
       "2  62.0  80.0  1.010  2.0  3.0  normal    normal  notpresent  notpresent   \n",
       "3  48.0  70.0  1.005  4.0  0.0  normal  abnormal     present  notpresent   \n",
       "4  51.0  80.0  1.010  2.0  0.0  normal    normal  notpresent  notpresent   \n",
       "\n",
       "     bgr  ...  hemo  pcv  wbcc  rbcc  htn   dm cad appet   pe  ane  \n",
       "0  121.0  ...  15.4   44  7800   5.2  yes  yes  no  good   no   no  \n",
       "1    NaN  ...  11.3   38  6000   NaN   no   no  no  good   no   no  \n",
       "2  423.0  ...   9.6   31  7500   NaN   no  yes  no  poor   no  yes  \n",
       "3  117.0  ...  11.2   32  6700   3.9  yes   no  no  poor  yes  yes  \n",
       "4  106.0  ...  11.6   35  7300   4.6   no   no  no  good   no   no  \n",
       "\n",
       "[5 rows x 24 columns]"
      ]
     },
     "execution_count": 811,
     "metadata": {},
     "output_type": "execute_result"
    }
   ],
   "source": [
    "X.head()"
   ]
  },
  {
   "cell_type": "code",
   "execution_count": 812,
   "id": "9dc14888",
   "metadata": {},
   "outputs": [
    {
     "data": {
      "text/plain": [
       "0    ckd\n",
       "1    ckd\n",
       "2    ckd\n",
       "3    ckd\n",
       "4    ckd\n",
       "Name: class, dtype: object"
      ]
     },
     "execution_count": 812,
     "metadata": {},
     "output_type": "execute_result"
    }
   ],
   "source": [
    "Y.head()"
   ]
  },
  {
   "cell_type": "markdown",
   "id": "e6780afa",
   "metadata": {},
   "source": [
    "### Check the missing Values"
   ]
  },
  {
   "cell_type": "code",
   "execution_count": 813,
   "id": "ea92a5b9",
   "metadata": {},
   "outputs": [
    {
     "data": {
      "text/plain": [
       "age        9\n",
       "bp        12\n",
       "sg        47\n",
       "al        46\n",
       "su        49\n",
       "rbc      152\n",
       "pc        65\n",
       "pcc        4\n",
       "ba         4\n",
       "bgr       44\n",
       "bu        19\n",
       "sc        17\n",
       "sod       87\n",
       "pot       88\n",
       "hemo      52\n",
       "pcv       70\n",
       "wbcc     105\n",
       "rbcc     130\n",
       "htn        2\n",
       "dm         2\n",
       "cad        2\n",
       "appet      1\n",
       "pe         1\n",
       "ane        1\n",
       "dtype: int64"
      ]
     },
     "execution_count": 813,
     "metadata": {},
     "output_type": "execute_result"
    }
   ],
   "source": [
    "X.isnull().sum()"
   ]
  },
  {
   "cell_type": "code",
   "execution_count": 814,
   "id": "b346bcd8",
   "metadata": {},
   "outputs": [
    {
     "data": {
      "text/plain": [
       "0"
      ]
     },
     "execution_count": 814,
     "metadata": {},
     "output_type": "execute_result"
    }
   ],
   "source": [
    "Y.isnull().sum()"
   ]
  },
  {
   "cell_type": "markdown",
   "id": "d8bcdf63",
   "metadata": {},
   "source": [
    "### Replace missing values with a median / most frequent values"
   ]
  },
  {
   "cell_type": "markdown",
   "id": "b2a9da27",
   "metadata": {},
   "source": [
    "#### Handling numerical attributes"
   ]
  },
  {
   "cell_type": "code",
   "execution_count": 815,
   "id": "4bffa007",
   "metadata": {},
   "outputs": [],
   "source": [
    "# Replace missing values with a median\n",
    "from sklearn.impute import SimpleImputer\n",
    "imputer = SimpleImputer(strategy=\"median\")\n",
    "#Create a copy without text attribute\n",
    "#Nominal attributes:\"rbc\",\"pc\",\"pcc\",\"ba\",\"htn\",\"dm\", \"cad\", \"appet\", \"pe\", \"ane\"\n",
    "X_num = X[[\"age\", \"bp\",\"sg\", \"al\", \"su\", \"bgr\", \"bu\", \"sc\", \"sod\", \"pot\", \"hemo\",\"pcv\", \"wbcc\", \"rbcc\"]]"
   ]
  },
  {
   "cell_type": "code",
   "execution_count": 816,
   "id": "d40266c9",
   "metadata": {},
   "outputs": [
    {
     "data": {
      "text/html": [
       "<div>\n",
       "<style scoped>\n",
       "    .dataframe tbody tr th:only-of-type {\n",
       "        vertical-align: middle;\n",
       "    }\n",
       "\n",
       "    .dataframe tbody tr th {\n",
       "        vertical-align: top;\n",
       "    }\n",
       "\n",
       "    .dataframe thead th {\n",
       "        text-align: right;\n",
       "    }\n",
       "</style>\n",
       "<table border=\"1\" class=\"dataframe\">\n",
       "  <thead>\n",
       "    <tr style=\"text-align: right;\">\n",
       "      <th></th>\n",
       "      <th>age</th>\n",
       "      <th>bp</th>\n",
       "      <th>sg</th>\n",
       "      <th>al</th>\n",
       "      <th>su</th>\n",
       "      <th>bgr</th>\n",
       "      <th>bu</th>\n",
       "      <th>sc</th>\n",
       "      <th>sod</th>\n",
       "      <th>pot</th>\n",
       "      <th>hemo</th>\n",
       "    </tr>\n",
       "  </thead>\n",
       "  <tbody>\n",
       "    <tr>\n",
       "      <th>count</th>\n",
       "      <td>391.000000</td>\n",
       "      <td>388.000000</td>\n",
       "      <td>353.000000</td>\n",
       "      <td>354.000000</td>\n",
       "      <td>351.000000</td>\n",
       "      <td>356.000000</td>\n",
       "      <td>381.000000</td>\n",
       "      <td>383.000000</td>\n",
       "      <td>313.000000</td>\n",
       "      <td>312.000000</td>\n",
       "      <td>348.000000</td>\n",
       "    </tr>\n",
       "    <tr>\n",
       "      <th>mean</th>\n",
       "      <td>51.483376</td>\n",
       "      <td>76.469072</td>\n",
       "      <td>1.017408</td>\n",
       "      <td>1.016949</td>\n",
       "      <td>0.450142</td>\n",
       "      <td>148.036517</td>\n",
       "      <td>57.425722</td>\n",
       "      <td>3.072454</td>\n",
       "      <td>137.528754</td>\n",
       "      <td>4.627244</td>\n",
       "      <td>12.526437</td>\n",
       "    </tr>\n",
       "    <tr>\n",
       "      <th>std</th>\n",
       "      <td>17.169714</td>\n",
       "      <td>13.683637</td>\n",
       "      <td>0.005717</td>\n",
       "      <td>1.352679</td>\n",
       "      <td>1.099191</td>\n",
       "      <td>79.281714</td>\n",
       "      <td>50.503006</td>\n",
       "      <td>5.741126</td>\n",
       "      <td>10.408752</td>\n",
       "      <td>3.193904</td>\n",
       "      <td>2.912587</td>\n",
       "    </tr>\n",
       "    <tr>\n",
       "      <th>min</th>\n",
       "      <td>2.000000</td>\n",
       "      <td>50.000000</td>\n",
       "      <td>1.005000</td>\n",
       "      <td>0.000000</td>\n",
       "      <td>0.000000</td>\n",
       "      <td>22.000000</td>\n",
       "      <td>1.500000</td>\n",
       "      <td>0.400000</td>\n",
       "      <td>4.500000</td>\n",
       "      <td>2.500000</td>\n",
       "      <td>3.100000</td>\n",
       "    </tr>\n",
       "    <tr>\n",
       "      <th>25%</th>\n",
       "      <td>42.000000</td>\n",
       "      <td>70.000000</td>\n",
       "      <td>1.010000</td>\n",
       "      <td>0.000000</td>\n",
       "      <td>0.000000</td>\n",
       "      <td>99.000000</td>\n",
       "      <td>27.000000</td>\n",
       "      <td>0.900000</td>\n",
       "      <td>135.000000</td>\n",
       "      <td>3.800000</td>\n",
       "      <td>10.300000</td>\n",
       "    </tr>\n",
       "    <tr>\n",
       "      <th>50%</th>\n",
       "      <td>55.000000</td>\n",
       "      <td>80.000000</td>\n",
       "      <td>1.020000</td>\n",
       "      <td>0.000000</td>\n",
       "      <td>0.000000</td>\n",
       "      <td>121.000000</td>\n",
       "      <td>42.000000</td>\n",
       "      <td>1.300000</td>\n",
       "      <td>138.000000</td>\n",
       "      <td>4.400000</td>\n",
       "      <td>12.650000</td>\n",
       "    </tr>\n",
       "    <tr>\n",
       "      <th>75%</th>\n",
       "      <td>64.500000</td>\n",
       "      <td>80.000000</td>\n",
       "      <td>1.020000</td>\n",
       "      <td>2.000000</td>\n",
       "      <td>0.000000</td>\n",
       "      <td>163.000000</td>\n",
       "      <td>66.000000</td>\n",
       "      <td>2.800000</td>\n",
       "      <td>142.000000</td>\n",
       "      <td>4.900000</td>\n",
       "      <td>15.000000</td>\n",
       "    </tr>\n",
       "    <tr>\n",
       "      <th>max</th>\n",
       "      <td>90.000000</td>\n",
       "      <td>180.000000</td>\n",
       "      <td>1.025000</td>\n",
       "      <td>5.000000</td>\n",
       "      <td>5.000000</td>\n",
       "      <td>490.000000</td>\n",
       "      <td>391.000000</td>\n",
       "      <td>76.000000</td>\n",
       "      <td>163.000000</td>\n",
       "      <td>47.000000</td>\n",
       "      <td>17.800000</td>\n",
       "    </tr>\n",
       "  </tbody>\n",
       "</table>\n",
       "</div>"
      ],
      "text/plain": [
       "              age          bp          sg          al          su         bgr  \\\n",
       "count  391.000000  388.000000  353.000000  354.000000  351.000000  356.000000   \n",
       "mean    51.483376   76.469072    1.017408    1.016949    0.450142  148.036517   \n",
       "std     17.169714   13.683637    0.005717    1.352679    1.099191   79.281714   \n",
       "min      2.000000   50.000000    1.005000    0.000000    0.000000   22.000000   \n",
       "25%     42.000000   70.000000    1.010000    0.000000    0.000000   99.000000   \n",
       "50%     55.000000   80.000000    1.020000    0.000000    0.000000  121.000000   \n",
       "75%     64.500000   80.000000    1.020000    2.000000    0.000000  163.000000   \n",
       "max     90.000000  180.000000    1.025000    5.000000    5.000000  490.000000   \n",
       "\n",
       "               bu          sc         sod         pot        hemo  \n",
       "count  381.000000  383.000000  313.000000  312.000000  348.000000  \n",
       "mean    57.425722    3.072454  137.528754    4.627244   12.526437  \n",
       "std     50.503006    5.741126   10.408752    3.193904    2.912587  \n",
       "min      1.500000    0.400000    4.500000    2.500000    3.100000  \n",
       "25%     27.000000    0.900000  135.000000    3.800000   10.300000  \n",
       "50%     42.000000    1.300000  138.000000    4.400000   12.650000  \n",
       "75%     66.000000    2.800000  142.000000    4.900000   15.000000  \n",
       "max    391.000000   76.000000  163.000000   47.000000   17.800000  "
      ]
     },
     "execution_count": 816,
     "metadata": {},
     "output_type": "execute_result"
    }
   ],
   "source": [
    "X_num.describe()"
   ]
  },
  {
   "cell_type": "code",
   "execution_count": 817,
   "id": "d022ea2a",
   "metadata": {},
   "outputs": [
    {
     "data": {
      "text/plain": [
       "array([5.500e+01, 8.000e+01, 1.020e+00, 0.000e+00, 0.000e+00, 1.210e+02,\n",
       "       4.200e+01, 1.300e+00, 1.380e+02, 4.400e+00, 1.265e+01, 4.000e+01,\n",
       "       8.000e+03, 4.800e+00])"
      ]
     },
     "execution_count": 817,
     "metadata": {},
     "output_type": "execute_result"
    }
   ],
   "source": [
    "#fit the imputer instance to the data\n",
    "imputer.fit(X_num)\n",
    "#imputer.statistics_\n",
    "X_num.median().values"
   ]
  },
  {
   "cell_type": "code",
   "execution_count": 818,
   "id": "c195a6aa",
   "metadata": {},
   "outputs": [],
   "source": [
    "#trasform the dataset by replacing the missing values by the medians\n",
    "I = imputer.transform(X_num)\n",
    "X_num_tr = pd.DataFrame(I, columns = X_num.columns)"
   ]
  },
  {
   "cell_type": "code",
   "execution_count": 819,
   "id": "6d714289",
   "metadata": {},
   "outputs": [
    {
     "data": {
      "text/html": [
       "<div>\n",
       "<style scoped>\n",
       "    .dataframe tbody tr th:only-of-type {\n",
       "        vertical-align: middle;\n",
       "    }\n",
       "\n",
       "    .dataframe tbody tr th {\n",
       "        vertical-align: top;\n",
       "    }\n",
       "\n",
       "    .dataframe thead th {\n",
       "        text-align: right;\n",
       "    }\n",
       "</style>\n",
       "<table border=\"1\" class=\"dataframe\">\n",
       "  <thead>\n",
       "    <tr style=\"text-align: right;\">\n",
       "      <th></th>\n",
       "      <th>age</th>\n",
       "      <th>bp</th>\n",
       "      <th>sg</th>\n",
       "      <th>al</th>\n",
       "      <th>su</th>\n",
       "      <th>bgr</th>\n",
       "      <th>bu</th>\n",
       "      <th>sc</th>\n",
       "      <th>sod</th>\n",
       "      <th>pot</th>\n",
       "      <th>hemo</th>\n",
       "      <th>pcv</th>\n",
       "      <th>wbcc</th>\n",
       "      <th>rbcc</th>\n",
       "    </tr>\n",
       "  </thead>\n",
       "  <tbody>\n",
       "    <tr>\n",
       "      <th>count</th>\n",
       "      <td>400.000000</td>\n",
       "      <td>400.000000</td>\n",
       "      <td>400.000000</td>\n",
       "      <td>400.00000</td>\n",
       "      <td>400.000000</td>\n",
       "      <td>400.000000</td>\n",
       "      <td>400.000000</td>\n",
       "      <td>400.000000</td>\n",
       "      <td>400.000000</td>\n",
       "      <td>400.000000</td>\n",
       "      <td>400.00000</td>\n",
       "      <td>400.000000</td>\n",
       "      <td>400.000000</td>\n",
       "      <td>400.000000</td>\n",
       "    </tr>\n",
       "    <tr>\n",
       "      <th>mean</th>\n",
       "      <td>51.562500</td>\n",
       "      <td>76.575000</td>\n",
       "      <td>1.017712</td>\n",
       "      <td>0.90000</td>\n",
       "      <td>0.395000</td>\n",
       "      <td>145.062500</td>\n",
       "      <td>56.693000</td>\n",
       "      <td>2.997125</td>\n",
       "      <td>137.631250</td>\n",
       "      <td>4.577250</td>\n",
       "      <td>12.54250</td>\n",
       "      <td>39.082500</td>\n",
       "      <td>8298.500000</td>\n",
       "      <td>4.737750</td>\n",
       "    </tr>\n",
       "    <tr>\n",
       "      <th>std</th>\n",
       "      <td>16.982996</td>\n",
       "      <td>13.489785</td>\n",
       "      <td>0.005434</td>\n",
       "      <td>1.31313</td>\n",
       "      <td>1.040038</td>\n",
       "      <td>75.260774</td>\n",
       "      <td>49.395258</td>\n",
       "      <td>5.628886</td>\n",
       "      <td>9.206332</td>\n",
       "      <td>2.821357</td>\n",
       "      <td>2.71649</td>\n",
       "      <td>8.162245</td>\n",
       "      <td>2529.593814</td>\n",
       "      <td>0.841439</td>\n",
       "    </tr>\n",
       "    <tr>\n",
       "      <th>min</th>\n",
       "      <td>2.000000</td>\n",
       "      <td>50.000000</td>\n",
       "      <td>1.005000</td>\n",
       "      <td>0.00000</td>\n",
       "      <td>0.000000</td>\n",
       "      <td>22.000000</td>\n",
       "      <td>1.500000</td>\n",
       "      <td>0.400000</td>\n",
       "      <td>4.500000</td>\n",
       "      <td>2.500000</td>\n",
       "      <td>3.10000</td>\n",
       "      <td>9.000000</td>\n",
       "      <td>2200.000000</td>\n",
       "      <td>2.100000</td>\n",
       "    </tr>\n",
       "    <tr>\n",
       "      <th>25%</th>\n",
       "      <td>42.000000</td>\n",
       "      <td>70.000000</td>\n",
       "      <td>1.015000</td>\n",
       "      <td>0.00000</td>\n",
       "      <td>0.000000</td>\n",
       "      <td>101.000000</td>\n",
       "      <td>27.000000</td>\n",
       "      <td>0.900000</td>\n",
       "      <td>135.000000</td>\n",
       "      <td>4.000000</td>\n",
       "      <td>10.87500</td>\n",
       "      <td>34.000000</td>\n",
       "      <td>6975.000000</td>\n",
       "      <td>4.500000</td>\n",
       "    </tr>\n",
       "    <tr>\n",
       "      <th>50%</th>\n",
       "      <td>55.000000</td>\n",
       "      <td>80.000000</td>\n",
       "      <td>1.020000</td>\n",
       "      <td>0.00000</td>\n",
       "      <td>0.000000</td>\n",
       "      <td>121.000000</td>\n",
       "      <td>42.000000</td>\n",
       "      <td>1.300000</td>\n",
       "      <td>138.000000</td>\n",
       "      <td>4.400000</td>\n",
       "      <td>12.65000</td>\n",
       "      <td>40.000000</td>\n",
       "      <td>8000.000000</td>\n",
       "      <td>4.800000</td>\n",
       "    </tr>\n",
       "    <tr>\n",
       "      <th>75%</th>\n",
       "      <td>64.000000</td>\n",
       "      <td>80.000000</td>\n",
       "      <td>1.020000</td>\n",
       "      <td>2.00000</td>\n",
       "      <td>0.000000</td>\n",
       "      <td>150.000000</td>\n",
       "      <td>61.750000</td>\n",
       "      <td>2.725000</td>\n",
       "      <td>141.000000</td>\n",
       "      <td>4.800000</td>\n",
       "      <td>14.62500</td>\n",
       "      <td>44.000000</td>\n",
       "      <td>9400.000000</td>\n",
       "      <td>5.100000</td>\n",
       "    </tr>\n",
       "    <tr>\n",
       "      <th>max</th>\n",
       "      <td>90.000000</td>\n",
       "      <td>180.000000</td>\n",
       "      <td>1.025000</td>\n",
       "      <td>5.00000</td>\n",
       "      <td>5.000000</td>\n",
       "      <td>490.000000</td>\n",
       "      <td>391.000000</td>\n",
       "      <td>76.000000</td>\n",
       "      <td>163.000000</td>\n",
       "      <td>47.000000</td>\n",
       "      <td>17.80000</td>\n",
       "      <td>54.000000</td>\n",
       "      <td>26400.000000</td>\n",
       "      <td>8.000000</td>\n",
       "    </tr>\n",
       "  </tbody>\n",
       "</table>\n",
       "</div>"
      ],
      "text/plain": [
       "              age          bp          sg         al          su         bgr  \\\n",
       "count  400.000000  400.000000  400.000000  400.00000  400.000000  400.000000   \n",
       "mean    51.562500   76.575000    1.017712    0.90000    0.395000  145.062500   \n",
       "std     16.982996   13.489785    0.005434    1.31313    1.040038   75.260774   \n",
       "min      2.000000   50.000000    1.005000    0.00000    0.000000   22.000000   \n",
       "25%     42.000000   70.000000    1.015000    0.00000    0.000000  101.000000   \n",
       "50%     55.000000   80.000000    1.020000    0.00000    0.000000  121.000000   \n",
       "75%     64.000000   80.000000    1.020000    2.00000    0.000000  150.000000   \n",
       "max     90.000000  180.000000    1.025000    5.00000    5.000000  490.000000   \n",
       "\n",
       "               bu          sc         sod         pot       hemo         pcv  \\\n",
       "count  400.000000  400.000000  400.000000  400.000000  400.00000  400.000000   \n",
       "mean    56.693000    2.997125  137.631250    4.577250   12.54250   39.082500   \n",
       "std     49.395258    5.628886    9.206332    2.821357    2.71649    8.162245   \n",
       "min      1.500000    0.400000    4.500000    2.500000    3.10000    9.000000   \n",
       "25%     27.000000    0.900000  135.000000    4.000000   10.87500   34.000000   \n",
       "50%     42.000000    1.300000  138.000000    4.400000   12.65000   40.000000   \n",
       "75%     61.750000    2.725000  141.000000    4.800000   14.62500   44.000000   \n",
       "max    391.000000   76.000000  163.000000   47.000000   17.80000   54.000000   \n",
       "\n",
       "               wbcc        rbcc  \n",
       "count    400.000000  400.000000  \n",
       "mean    8298.500000    4.737750  \n",
       "std     2529.593814    0.841439  \n",
       "min     2200.000000    2.100000  \n",
       "25%     6975.000000    4.500000  \n",
       "50%     8000.000000    4.800000  \n",
       "75%     9400.000000    5.100000  \n",
       "max    26400.000000    8.000000  "
      ]
     },
     "execution_count": 819,
     "metadata": {},
     "output_type": "execute_result"
    }
   ],
   "source": [
    "X_num_tr.describe()"
   ]
  },
  {
   "cell_type": "markdown",
   "id": "52364e96",
   "metadata": {},
   "source": [
    "#### Handling categorical attributes"
   ]
  },
  {
   "cell_type": "code",
   "execution_count": 820,
   "id": "5db25af2",
   "metadata": {},
   "outputs": [
    {
     "name": "stdout",
     "output_type": "stream",
     "text": [
      "[array([-1, -1,  0,  0,  0, -1, -1,  0,  0,  1, -1,  1, -1, -1,  0, -1, -1,\n",
      "       -1, -1, -1,  1, -1,  0, -1,  0, -1, -1,  0, -1,  1, -1, -1, -1,  1,\n",
      "        0,  1,  0, -1,  1,  0,  0, -1, -1,  1,  1, -1, -1, -1,  0,  0, -1,\n",
      "       -1, -1, -1,  0,  1,  0, -1,  1, -1, -1,  0, -1,  1, -1, -1,  1,  0,\n",
      "       -1, -1, -1,  0, -1,  1,  1, -1,  1, -1, -1, -1, -1, -1, -1,  0,  0,\n",
      "       -1, -1,  0, -1, -1,  0,  1,  0,  1, -1, -1, -1, -1, -1, -1,  1, -1,\n",
      "       -1,  0, -1, -1, -1,  0, -1, -1, -1, -1,  1, -1,  1, -1,  1, -1, -1,\n",
      "       -1, -1, -1, -1, -1, -1, -1, -1,  0,  0, -1,  0, -1,  0,  0,  0, -1,\n",
      "       -1,  0, -1, -1, -1,  0, -1,  1,  1,  1,  1,  0, -1,  1,  0, -1, -1,\n",
      "        1,  1,  1, -1,  0,  0,  1, -1,  1, -1, -1, -1, -1, -1,  1, -1, -1,\n",
      "       -1,  0, -1,  1, -1, -1,  0,  0,  1, -1,  1,  0, -1, -1, -1, -1,  0,\n",
      "        0, -1,  1,  1,  0, -1,  1, -1,  1,  1, -1,  0, -1, -1, -1, -1, -1,\n",
      "        0, -1, -1, -1, -1, -1,  0, -1,  0,  0, -1,  0, -1, -1, -1, -1, -1,\n",
      "        0, -1, -1, -1,  1,  1, -1, -1,  0,  0, -1,  1,  0,  1, -1, -1, -1,\n",
      "       -1,  0, -1, -1,  0, -1, -1, -1,  1,  0,  1,  0,  0,  0,  0,  0,  0,\n",
      "        0,  0,  0,  0,  0,  0,  0,  0,  0,  0,  0,  0,  0, -1,  0,  0,  0,\n",
      "        0,  0,  0,  0,  0,  0,  0,  0, -1,  0,  0,  0,  0,  0,  0,  0,  0,\n",
      "        0, -1,  0,  0,  0,  0, -1,  0,  0,  0,  0,  0,  0,  0,  0,  0,  0,\n",
      "        0,  0,  0, -1,  0,  0,  0,  0,  0,  0,  0,  0,  0,  0,  0,  0, -1,\n",
      "        0,  0,  0,  0,  0,  0,  0,  0,  0,  0,  0,  0,  0,  0,  0,  0,  0,\n",
      "        0,  0,  0,  0,  0,  0,  0,  0,  0, -1, -1,  0,  0,  0,  0,  0,  0,\n",
      "        0,  0,  0,  0,  0,  0,  0,  0,  0,  0,  0,  0,  0,  0,  0,  0,  0,\n",
      "        0,  0,  0,  0,  0,  0,  0, -1,  0,  0,  0,  0,  0,  0,  0,  0,  0,\n",
      "        0,  0,  0,  0,  0,  0,  0,  0,  0], dtype=int64), array([ 0,  0,  0,  1,  0, -1,  0,  1,  1,  1,  1,  1,  0, -1,  1,  0,  0,\n",
      "       -1,  0,  1,  1, -1,  1,  0,  1,  0,  0,  1, -1,  1, -1,  1,  0,  1,\n",
      "       -1,  0,  0, -1,  0, -1,  1,  0,  0, -1,  1,  1,  0,  0,  0,  1, -1,\n",
      "        0,  0, -1, -1,  0,  1,  0,  1, -1,  1,  1,  0,  0,  0,  0,  0,  1,\n",
      "        0,  0,  0,  0,  1,  1,  1,  0,  1,  0, -1,  0,  0, -1, -1,  0,  1,\n",
      "       -1, -1,  1,  0,  0,  0,  0,  1,  1,  0,  0,  0,  0, -1,  1,  1,  1,\n",
      "        0,  1, -1,  0, -1, -1,  1, -1,  0,  0,  1,  0,  1,  1,  0, -1,  0,\n",
      "        0,  0, -1, -1,  1,  0, -1,  0,  0,  1,  0,  1,  0, -1,  0, -1,  0,\n",
      "        0,  1, -1,  1,  0,  0, -1,  0,  0,  1,  0,  1, -1,  1,  0, -1,  0,\n",
      "        1,  1,  0,  0,  1,  0,  0, -1, -1, -1,  0, -1, -1, -1,  0,  0,  0,\n",
      "        0,  0, -1,  0, -1,  0,  1,  0,  1,  1,  1,  1,  0,  0,  1,  0,  0,\n",
      "        0, -1,  1,  1,  0,  0,  1,  1,  1,  1, -1,  0,  0,  0, -1, -1, -1,\n",
      "        0, -1,  0,  0, -1,  0,  0,  0,  0,  1,  1,  1,  0,  0,  0,  0,  0,\n",
      "       -1, -1,  0,  0,  0,  1,  0, -1,  1,  1, -1,  1,  0,  0,  0, -1,  0,\n",
      "       -1,  0,  0,  1,  1,  0,  1, -1,  0,  1,  1,  1,  0,  0,  0,  0,  0,\n",
      "        0,  0,  0,  0,  0,  0,  0,  0,  0,  0,  0,  0,  0, -1,  0,  0,  0,\n",
      "        0,  0,  0,  0,  0,  0,  0,  0, -1,  0,  0,  0,  0,  0,  0,  0,  0,\n",
      "        0, -1,  0,  0,  0,  0, -1,  0,  0,  0,  0,  0,  0,  0,  0,  0,  0,\n",
      "        0,  0,  0, -1,  0,  0,  0,  0,  0,  0,  0,  0,  0,  0,  0,  0, -1,\n",
      "        0,  0,  0,  0,  0,  0,  0,  0,  0,  0,  0,  0,  0,  0,  0,  0,  0,\n",
      "        0,  0,  0,  0,  0,  0,  0,  0,  0, -1, -1,  0,  0,  0,  0,  0,  0,\n",
      "        0,  0,  0,  0,  0,  0,  0,  0,  0,  0,  0,  0,  0,  0,  0,  0,  0,\n",
      "        0,  0,  0,  0,  0,  0,  0, -1,  0,  0,  0,  0,  0,  0,  0,  0,  0,\n",
      "        0,  0,  0,  0,  0,  0,  0,  0,  0], dtype=int64), array([ 0,  0,  0,  1,  0,  0,  0,  0,  1,  1,  1,  1,  1,  0,  1,  0,  0,\n",
      "        0,  0,  1,  0,  0,  0,  0,  0,  0,  0,  0,  0,  1,  0,  1,  0,  0,\n",
      "        1,  0,  0,  0,  0,  0,  0,  0,  0,  0,  0,  0,  0,  0,  0,  1,  0,\n",
      "        1,  0,  0,  0,  0,  1,  0,  0,  0,  1,  0,  0,  0,  0,  0,  0,  0,\n",
      "        1,  0,  0,  0,  1,  0,  0,  0,  0,  0,  0,  0,  0,  0,  0,  0,  0,\n",
      "        0,  0,  1,  0,  0,  0,  0,  1,  1,  0,  0,  0,  0,  0,  0,  0,  1,\n",
      "        0,  1,  0,  0,  0,  0,  0,  0,  0,  0,  0,  0,  1,  0,  0,  0,  0,\n",
      "        0,  0,  0,  0,  1,  0,  0,  0,  0,  0,  0,  1,  0,  0,  0,  0,  0,\n",
      "        0,  1,  0,  0,  0,  0,  0,  0,  0,  0,  0,  1,  0,  0,  0,  0,  0,\n",
      "        0,  0,  1,  0,  0,  1,  0,  0,  0,  0,  0,  0,  0,  0,  0,  1,  0,\n",
      "        0,  0,  0,  0,  0,  0,  1,  1,  1,  1,  1,  1,  0,  0,  0,  0,  0,\n",
      "        0,  0,  0,  0,  0,  0,  0,  0,  0,  0,  0,  0,  0,  0,  0,  0,  0,\n",
      "        0,  0,  0,  0,  0,  0,  0,  0,  0,  1,  0,  0,  0,  0,  0,  0,  0,\n",
      "        0,  0,  0,  0,  0,  0,  0,  0,  0,  1,  0,  0,  0,  0,  0,  0,  0,\n",
      "        0,  0,  0,  0,  1,  0,  1,  0,  1,  0,  0,  1,  0,  0,  0,  0,  0,\n",
      "        0,  0,  0,  0,  0,  0,  0,  0,  0,  0,  0,  0,  0,  0,  0,  0,  0,\n",
      "        0,  0,  0,  0,  0,  0,  0,  0,  0,  0,  0,  0,  0,  0,  0,  0,  0,\n",
      "        0, -1,  0,  0,  0,  0,  0,  0,  0,  0,  0, -1,  0,  0,  0,  0,  0,\n",
      "        0,  0,  0,  0,  0,  0,  0,  0,  0,  0, -1,  0,  0,  0,  0,  0,  0,\n",
      "        0,  0,  0,  0,  0, -1,  0,  0,  0,  0,  0,  0,  0,  0,  0,  0,  0,\n",
      "        0,  0,  0,  0,  0,  0,  0,  0,  0,  0,  0,  0,  0,  0,  0,  0,  0,\n",
      "        0,  0,  0,  0,  0,  0,  0,  0,  0,  0,  0,  0,  0,  0,  0,  0,  0,\n",
      "        0,  0,  0,  0,  0,  0,  0,  0,  0,  0,  0,  0,  0,  0,  0,  0,  0,\n",
      "        0,  0,  0,  0,  0,  0,  0,  0,  0], dtype=int64), array([ 0,  0,  0,  0,  0,  0,  0,  0,  0,  0,  0,  0,  0,  0,  1,  0,  0,\n",
      "        0,  0,  0,  0,  0,  0,  0,  1,  0,  0,  0,  0,  0,  0,  0,  0,  0,\n",
      "        1,  0,  0,  0,  0,  0,  0,  0,  0,  0,  0,  0,  0,  0,  0,  0,  0,\n",
      "        0,  0,  0,  0,  0,  0,  0,  0,  0,  0,  0,  0,  0,  0,  0,  0,  0,\n",
      "        0,  0,  0,  0,  0,  0,  0,  0,  1,  0,  0,  0,  0,  0,  0,  0,  0,\n",
      "        0,  0,  0,  0,  0,  1,  0,  1,  0,  0,  0,  0,  0,  0,  0,  0,  1,\n",
      "        0,  0,  0,  0,  0,  0,  0,  0,  0,  0,  0,  0,  0,  0,  0,  0,  0,\n",
      "        0,  0,  0,  0,  1,  0,  0,  0,  0,  0,  0,  1,  0,  0,  0,  0,  0,\n",
      "        0,  0,  0,  1,  0,  0,  0,  0,  0,  1,  0,  0,  0,  0,  0,  0,  0,\n",
      "        0,  0,  1,  1,  0,  0,  0,  0,  0,  0,  0,  0,  0,  0,  0,  0,  0,\n",
      "        0,  0,  0,  0,  0,  0,  1,  0,  0,  0,  0,  0,  0,  0,  0,  0,  0,\n",
      "        0,  0,  1,  1,  0,  0,  0,  0,  1,  0,  0,  0,  0,  0,  0,  0,  0,\n",
      "        0,  0,  0,  0,  0,  0,  0,  0,  0,  1,  0,  0,  0,  0,  0,  0,  0,\n",
      "        0,  0,  0,  0,  1,  1,  0,  0,  0,  0,  0,  0,  1,  0,  0,  0,  0,\n",
      "        0,  0,  0,  0,  1,  0,  0,  0,  0,  0,  0,  0,  0,  0,  0,  0,  0,\n",
      "        0,  0,  0,  0,  0,  0,  0,  0,  0,  0,  0,  0,  0,  0,  0,  0,  0,\n",
      "        0,  0,  0,  0,  0,  0,  0,  0,  0,  0,  0,  0,  0,  0,  0,  0,  0,\n",
      "        0, -1,  0,  0,  0,  0,  0,  0,  0,  0,  0, -1,  0,  0,  0,  0,  0,\n",
      "        0,  0,  0,  0,  0,  0,  0,  0,  0,  0, -1,  0,  0,  0,  0,  0,  0,\n",
      "        0,  0,  0,  0,  0, -1,  0,  0,  0,  0,  0,  0,  0,  0,  0,  0,  0,\n",
      "        0,  0,  0,  0,  0,  0,  0,  0,  0,  0,  0,  0,  0,  0,  0,  0,  0,\n",
      "        0,  0,  0,  0,  0,  0,  0,  0,  0,  0,  0,  0,  0,  0,  0,  0,  0,\n",
      "        0,  0,  0,  0,  0,  0,  0,  0,  0,  0,  0,  0,  0,  0,  0,  0,  0,\n",
      "        0,  0,  0,  0,  0,  0,  0,  0,  0], dtype=int64), array([ 0,  1,  1,  0,  1,  0,  1,  1,  0,  0,  0,  0,  0,  0,  0,  0,  1,\n",
      "        0,  0,  0,  0,  0,  0,  1,  0,  0,  0,  0,  1,  1,  0,  1,  0,  0,\n",
      "        1,  0,  0,  0,  0,  0,  0,  1,  0,  1,  0,  0,  1,  1,  0,  0,  0,\n",
      "        0,  1,  0,  0,  1,  0,  0,  0,  0,  0,  1,  0,  1,  1,  1,  0,  1,\n",
      "        1,  1,  0,  0,  0,  0,  0,  1,  1,  0,  0,  0,  0,  0,  0,  0,  0,\n",
      "        1,  1,  0,  0,  1,  0,  1,  0,  0,  1,  0,  1,  0,  0,  0,  1,  1,\n",
      "        1,  0,  0,  1,  0,  0,  1,  1,  1,  0,  1,  1,  1,  1,  1,  1,  1,\n",
      "        1,  1,  0,  0,  1,  0,  0,  0,  0,  0,  0,  1,  1,  0,  0,  1,  1,\n",
      "        0,  0,  1,  0,  1,  0,  1,  1,  1,  0,  1,  0,  0,  0,  1,  0,  1,\n",
      "        0,  0,  1,  1,  0,  0,  1,  0,  0,  1,  0,  1,  1,  1,  1,  0,  0,\n",
      "        0,  0,  1,  1,  1,  0,  1,  1,  1,  1,  1,  1,  1,  1,  0,  1,  1,\n",
      "        1,  1,  0,  1,  0,  1,  0,  0,  0,  0,  0,  0,  0,  0,  0,  1,  0,\n",
      "        0,  0,  0,  0,  0,  1,  0,  1,  0,  0,  1,  1,  1,  1,  1,  0,  1,\n",
      "        0,  0,  0,  1,  0,  0,  0,  0,  1,  0,  0,  1,  1,  0,  1,  0,  0,\n",
      "        0,  1,  0,  1,  0,  0,  0,  0,  0,  1,  0,  0,  1,  1,  1,  1,  1,\n",
      "        1,  1,  1,  1,  1,  1,  1,  1,  1,  1,  1,  1,  1,  1,  1,  1,  1,\n",
      "        1,  1,  1,  1,  1,  1,  1,  1,  1,  1,  1,  1,  1,  1,  1,  1, -1,\n",
      "        1,  1,  1,  1,  1,  1,  1,  1, -1,  1,  1,  1,  1,  1,  1,  1,  1,\n",
      "        1,  1,  1,  1,  1,  1,  1,  1,  1,  1,  1,  1,  1,  1,  1,  1,  1,\n",
      "        1,  1,  1,  1,  1,  1,  1,  1,  1,  1,  1,  1,  1,  1,  1,  1,  1,\n",
      "        1,  1,  1,  1,  1,  1,  1,  1,  1,  1,  1,  1,  1,  1,  1,  1,  1,\n",
      "        1,  1,  1,  1,  1,  1,  1,  1,  1,  1,  1,  1,  1,  1,  1,  1,  1,\n",
      "        1,  1,  1,  1,  1,  1,  1,  1,  1,  1,  1,  1,  1,  1,  1,  1,  1,\n",
      "        1,  1,  1,  1,  1,  1,  1,  1,  1], dtype=int64), array([ 0,  1,  0,  1,  1,  0,  1,  0,  0,  0,  0,  0,  0,  0,  0,  1,  1,\n",
      "        1,  0,  1,  0,  0,  1,  1,  1,  0,  0,  0,  0,  1,  2,  1,  0,  1,\n",
      "        0,  0,  1,  0,  1,  0,  1,  1,  1,  0,  0,  0,  0,  1,  0,  0,  0,\n",
      "        0,  1,  0,  1,  1,  0,  0,  0,  0,  1,  1,  0,  1,  1,  3,  0,  1,\n",
      "        1,  0,  0,  0,  0,  1,  1,  1,  0,  0,  1,  0,  0,  0,  1,  0,  1,\n",
      "        0,  0,  0,  4,  1,  1,  1,  0,  0,  0,  1,  0,  0,  0,  0,  1,  1,\n",
      "        1,  1,  0,  1,  0,  0,  1,  0,  1,  0,  1,  0,  1,  1,  1,  1,  1,\n",
      "        1,  0,  0,  1,  1,  1,  0,  0,  0,  0,  1,  1,  1,  1,  1,  0,  0,\n",
      "        0,  0,  3,  1,  1,  1,  0,  0,  1,  0,  0,  1,  1,  1,  1,  0,  0,\n",
      "        0,  0,  1,  1,  0,  0,  0,  0,  0,  0,  1,  0,  0,  1,  1,  0,  0,\n",
      "        0,  1,  1,  1,  1,  1,  1,  0,  1,  1,  0,  1,  1,  1,  0,  1,  1,\n",
      "        1,  3,  0,  1,  0,  1,  0,  4,  0,  0,  0,  0,  1,  0,  0,  0,  0,\n",
      "        0,  0,  1,  0,  0,  1,  0,  1,  0,  0,  0,  1,  1,  0,  1,  0,  1,\n",
      "        0,  0,  0,  1,  0,  0,  0,  1,  0,  0,  0,  1,  1,  1,  1,  0,  0,\n",
      "        0,  1,  0,  1,  0,  1,  0,  1,  1,  1,  0,  0,  1,  1,  1,  1,  1,\n",
      "        1,  1,  1,  1,  1,  1,  1,  1,  1,  1,  1,  1,  1,  1,  1,  1,  1,\n",
      "        1,  1,  1,  1,  1,  1,  1,  1,  1,  1,  1,  1,  1,  1,  1,  1, -1,\n",
      "        1,  1,  1,  1,  1,  1,  1,  1, -1,  1,  1,  1,  1,  1,  1,  1,  1,\n",
      "        1,  1,  1,  1,  1,  1,  1,  1,  1,  1,  1,  1,  1,  1,  1,  1,  1,\n",
      "        1,  1,  1,  1,  1,  1,  1,  1,  1,  1,  1,  1,  1,  1,  1,  1,  1,\n",
      "        1,  1,  1,  1,  1,  1,  1,  1,  1,  1,  1,  1,  1,  1,  1,  1,  1,\n",
      "        1,  1,  1,  1,  1,  1,  1,  1,  1,  1,  1,  1,  1,  1,  1,  1,  1,\n",
      "        1,  1,  1,  1,  1,  1,  1,  1,  1,  1,  1,  1,  1,  1,  1,  1,  1,\n",
      "        1,  1,  1,  1,  1,  1,  1,  1,  1], dtype=int64), array([ 0,  0,  0,  0,  0,  0,  0,  0,  0,  0,  0,  0,  1,  1,  1,  0,  0,\n",
      "        0,  1,  1,  1,  1,  0,  0,  0,  0,  0,  1,  0,  1,  0,  0,  0,  0,\n",
      "        0,  0,  0,  0,  0,  0,  2,  0,  0,  0,  0,  0,  0,  0,  0,  0,  0,\n",
      "        0,  0,  0,  1,  0,  1,  1,  1,  0,  0,  0,  0,  0,  2,  0,  0,  0,\n",
      "        0,  0,  0,  0,  0,  0,  0,  0,  0,  0,  0,  0,  0,  0,  0,  0,  0,\n",
      "        0,  0,  0,  0,  0,  1,  0,  1,  1,  0,  0,  1,  0,  0,  0,  0,  0,\n",
      "        0,  0,  0,  0,  0,  0,  0,  0,  0,  1,  0,  0,  0,  0,  0,  0,  0,\n",
      "        0,  1,  0,  0,  0,  0,  0,  0,  0,  0,  0,  0,  0,  0,  0,  0,  0,\n",
      "        0,  0,  0,  0,  0,  0,  0,  0,  0,  1,  0,  0,  0,  0,  0,  0,  0,\n",
      "        0,  0,  0,  0,  0,  1,  0,  1,  0,  0,  0,  0,  0,  0,  0,  0,  0,\n",
      "        0,  0,  0,  0,  0,  0,  0,  0,  0,  0,  0,  0,  0,  0,  1,  0,  0,\n",
      "        0,  0,  0,  0,  0,  0,  0,  0,  1,  0,  0,  0,  1,  0,  1,  0,  0,\n",
      "        0,  0,  0,  0,  0,  0,  1,  0,  0,  0,  0,  0,  0,  0,  0,  0,  0,\n",
      "        0,  0,  0,  0,  0,  0,  0,  0,  0,  0,  1,  0,  0,  0,  1,  1,  0,\n",
      "        0,  0,  0,  0,  1,  0,  0,  1,  1,  0,  1,  0,  0,  0,  0,  0,  0,\n",
      "        0,  0,  0,  0,  0,  0,  0,  0,  0,  0,  0,  0,  0,  0,  0,  0,  0,\n",
      "        0,  0,  0,  0,  0,  0,  0,  0,  0,  0,  0,  0,  0,  0,  0,  0, -1,\n",
      "        0,  0,  0,  0,  0,  0,  0,  0, -1,  0,  0,  0,  0,  0,  0,  0,  0,\n",
      "        0,  0,  0,  0,  0,  0,  0,  0,  0,  0,  0,  0,  0,  0,  0,  0,  0,\n",
      "        0,  0,  0,  0,  0,  0,  0,  0,  0,  0,  0,  0,  0,  0,  0,  0,  0,\n",
      "        0,  0,  0,  0,  0,  0,  0,  0,  0,  0,  0,  0,  0,  0,  0,  0,  0,\n",
      "        0,  0,  0,  0,  0,  0,  0,  0,  0,  0,  0,  0,  0,  0,  0,  0,  0,\n",
      "        0,  0,  0,  0,  0,  0,  0,  0,  0,  0,  0,  0,  0,  0,  0,  0,  0,\n",
      "        0,  0,  0,  0,  0,  0,  0,  0,  0], dtype=int64), array([ 0,  0,  1,  1,  0,  0,  0,  0,  0,  1,  0,  1,  1,  1,  1,  0,  0,\n",
      "        1,  0,  0,  1,  0,  0,  1,  1,  0,  1,  0,  0,  0,  0,  1,  1,  1,\n",
      "        1,  1,  0,  1,  0,  0,  0,  0,  0,  0,  1,  1,  0,  0,  0,  1,  1,\n",
      "        1,  1,  0,  0,  0,  1,  1,  0,  0,  0,  0,  0,  0,  0,  0,  0,  1,\n",
      "        0,  0,  0,  0,  0,  0,  0,  0,  0,  0,  0,  1,  0,  0,  1,  0,  1,\n",
      "        1,  0,  1,  0,  1,  0,  0,  0,  1,  0,  0,  1,  1,  1,  1,  0,  0,\n",
      "        0,  1,  1,  0,  0,  0,  0,  0,  0,  0,  0,  1,  0,  0,  0,  0,  1,\n",
      "        0,  1,  0,  0,  0,  0,  1,  1,  1,  0,  1,  1,  0,  0,  0,  0,  1,\n",
      "        0,  0,  0,  0,  0,  0,  0,  0,  0,  1,  0,  1,  1,  0,  1,  0,  0,\n",
      "        1,  1,  0,  1,  0,  0,  1,  1,  0,  0,  1,  1,  0,  1,  1,  0,  0,\n",
      "        0,  1,  0,  0,  0,  0,  0,  0,  1,  0,  0,  0,  0,  1,  1,  0,  0,\n",
      "        0,  0,  1,  1,  1,  0,  1,  0,  1,  1,  0,  1,  0,  0,  0,  0,  0,\n",
      "        0,  0,  0,  0,  0,  0,  0,  0,  1,  0,  0,  0,  0,  0,  0,  1,  0,\n",
      "        0,  0,  0,  0,  0,  0,  0,  0,  0,  1,  0,  0,  1,  0,  0,  0,  1,\n",
      "        0,  0,  1,  0,  0,  0,  0,  1,  0,  1,  0,  1,  0,  0,  0,  0,  0,\n",
      "        0,  0,  0,  0,  0,  0,  0,  0,  0,  0,  0,  0,  0,  0,  0,  0,  0,\n",
      "        0,  0,  0,  0,  0,  0,  0,  0,  0,  0,  0,  0,  0,  0,  0,  0,  0,\n",
      "        0,  0,  0,  0,  0, -1,  0,  0,  0,  0,  0,  0,  0,  0,  0,  0,  0,\n",
      "        0,  0,  0,  0,  0,  0,  0,  0,  0,  0,  0,  0,  0,  0,  0,  0,  0,\n",
      "        0,  0,  0,  0,  0,  0,  0,  0,  0,  0,  0,  0,  0,  0,  0,  0,  0,\n",
      "        0,  0,  0,  0,  0,  0,  0,  0,  0,  0,  0,  0,  0,  0,  0,  0,  0,\n",
      "        0,  0,  0,  0,  0,  0,  0,  0,  0,  0,  0,  0,  0,  0,  0,  0,  0,\n",
      "        0,  0,  0,  0,  0,  0,  0,  0,  0,  0,  0,  0,  0,  0,  0,  0,  0,\n",
      "        0,  0,  0,  0,  0,  0,  0,  0,  0], dtype=int64), array([ 0,  0,  0,  1,  0,  1,  0,  1,  0,  0,  0,  1,  1,  1,  1,  0,  0,\n",
      "        0,  0,  0,  1,  0,  0,  0,  0,  0,  0,  1,  0,  0,  0,  0,  0,  0,\n",
      "        0,  0,  0,  0,  0,  0,  0,  1,  0,  0,  1,  1,  0,  0,  1,  0,  1,\n",
      "        1,  0,  0,  0,  1,  1,  0,  0,  0,  0,  1,  0,  0,  0,  0,  1,  0,\n",
      "        0,  0,  0,  0,  1,  1,  0,  0,  1,  1,  1,  1,  0,  0,  1,  0,  1,\n",
      "        1,  0,  0,  0,  0,  0,  0,  0,  0,  0,  1,  0,  1,  0,  1,  1,  0,\n",
      "        0,  1,  1,  0,  1,  0,  0,  0,  0,  0,  0,  0,  0,  0,  1,  0,  1,\n",
      "        0,  0,  1,  0,  0,  0,  0,  1,  1,  0,  1,  1,  0,  1,  0,  0,  0,\n",
      "        0,  0,  0,  1,  0,  0,  0,  0,  0,  1,  0,  0,  0,  1,  1,  0,  0,\n",
      "        1,  1,  0,  0,  0,  0,  0,  1,  0,  0,  0,  1,  0,  1,  0,  0,  0,\n",
      "        0,  0,  0,  0,  0,  0,  0,  0,  1,  0,  0,  0,  0,  0,  1,  0,  1,\n",
      "        0,  0,  1,  0,  0,  0,  1,  0,  0,  1,  0,  1,  1,  0,  1,  0,  0,\n",
      "        1,  0,  0,  0,  0,  0,  0,  0,  1,  1,  0,  1,  0,  0,  0,  0,  0,\n",
      "        0,  0,  0,  1,  0,  1,  0,  0,  1,  0,  1,  1,  0,  0,  0,  1,  1,\n",
      "        0,  0,  1,  0,  1,  0,  0,  0,  0,  1,  0,  1,  0,  0,  0,  0,  0,\n",
      "        0,  0,  0,  0,  0,  0,  0,  0,  0,  0,  0,  0,  0,  0,  0,  0,  0,\n",
      "        0,  0,  0,  0,  0,  0,  0,  0,  0,  0,  0,  0,  0,  0,  0,  0,  0,\n",
      "        0,  0,  0,  0,  0, -1,  0,  0,  0,  0,  0,  0,  0,  0,  0,  0,  0,\n",
      "        0,  0,  0,  0,  0,  0,  0,  0,  0,  0,  0,  0,  0,  0,  0,  0,  0,\n",
      "        0,  0,  0,  0,  0,  0,  0,  0,  0,  0,  0,  0,  0,  0,  0,  0,  0,\n",
      "        0,  0,  0,  0,  0,  0,  0,  0,  0,  0,  0,  0,  0,  0,  0,  0,  0,\n",
      "        0,  0,  0,  0,  0,  0,  0,  0,  0,  0,  0,  0,  0,  0,  0,  0,  0,\n",
      "        0,  0,  0,  0,  0,  0,  0,  0,  0,  0,  0,  0,  0,  0,  0,  0,  0,\n",
      "        0,  0,  0,  0,  0,  0,  0,  0,  0], dtype=int64), array([ 0,  0,  1,  1,  0,  0,  0,  0,  1,  1,  1,  0,  0,  0,  0,  1,  0,\n",
      "        0,  0,  0,  1,  0,  1,  1,  0,  1,  0,  0,  0,  0,  0,  0,  0,  0,\n",
      "        0,  1,  0,  1,  0,  0,  0,  0,  1,  0,  0,  0,  0,  0,  0,  1,  1,\n",
      "        0,  1,  0,  0,  0,  0,  0,  0,  1,  0,  0,  0,  1,  0,  0,  0,  0,\n",
      "        0,  0,  0,  0,  0,  1,  0,  1,  0,  0,  0,  0,  0,  0,  0,  0,  1,\n",
      "        0,  0,  0,  0,  0,  0,  0,  0,  0,  0,  1,  0,  0,  1,  0,  0,  0,\n",
      "        0,  1,  0,  0,  1,  0,  0,  0,  0,  0,  0,  1,  0,  1,  0,  0,  0,\n",
      "        0,  0,  0,  1,  0,  0,  0,  0,  0,  1,  0,  1,  0,  1,  0,  0,  0,\n",
      "        0,  0,  0,  1,  0,  1,  0,  0,  0,  1,  0,  1,  0,  0,  0,  1,  0,\n",
      "        1,  1,  0,  0,  0,  0,  0,  0,  0,  0,  1,  0,  0,  1,  0,  0,  1,\n",
      "        0,  1,  0,  0,  0,  0,  1,  0,  1,  0,  0,  0,  0,  0,  0,  0,  0,\n",
      "        0,  0,  0,  0,  0,  0,  1,  0,  0,  1,  1,  0,  0,  0,  1,  1,  1,\n",
      "        1,  0,  0,  0,  1,  0,  1,  0,  0,  0,  0,  0,  0,  0,  0,  0,  0,\n",
      "        0,  0,  0,  0,  0,  0,  0,  0,  0,  0,  0,  0,  0,  0,  1,  0,  0,\n",
      "        1,  0,  0,  0,  1,  0,  1,  0,  1,  1,  0,  1,  0,  0,  0,  0,  0,\n",
      "        0,  0,  0,  0,  0,  0,  0,  0,  0,  0,  0,  0,  0,  0,  0,  0,  0,\n",
      "        0,  0,  0,  0,  0,  0,  0,  0,  0,  0,  0,  0,  0,  0,  0,  0,  0,\n",
      "        0,  0,  0,  0,  0, -1,  0,  0,  0,  0,  0,  0,  0,  0,  0,  0,  0,\n",
      "        0,  0,  0,  0,  0,  0,  0,  0,  0,  0,  0,  0,  0,  0,  0,  0,  0,\n",
      "        0,  0,  0,  0,  0,  0,  0,  0,  0,  0,  0,  0,  0,  0,  0,  0,  0,\n",
      "        0,  0,  0,  0,  0,  0,  0,  0,  0,  0,  0,  0,  0,  0,  0,  0,  0,\n",
      "        0,  0,  0,  0,  0,  0,  0,  0,  0,  0,  0,  0,  0,  0,  0,  0,  0,\n",
      "        0,  0,  0,  0,  0,  0,  0,  0,  0,  0,  0,  0,  0,  0,  0,  0,  0,\n",
      "        0,  0,  0,  0,  0,  0,  0,  0,  0], dtype=int64)]\n",
      "[Index(['normal', 'abnormal'], dtype='object'), Index(['normal', 'abnormal'], dtype='object'), Index(['notpresent', 'present'], dtype='object'), Index(['notpresent', 'present'], dtype='object'), Index(['yes', 'no'], dtype='object'), Index(['yes', 'no', ' yes', '        no', '        yes'], dtype='object'), Index(['no', 'yes', '        no'], dtype='object'), Index(['good', 'poor'], dtype='object'), Index(['no', 'yes'], dtype='object'), Index(['no', 'yes'], dtype='object')]\n"
     ]
    }
   ],
   "source": [
    "X_cat = X[[\"rbc\",\"pc\",\"pcc\",\"ba\",\"htn\",\"dm\", \"cad\", \"appet\", \"pe\", \"ane\"]]\n",
    "\n",
    "#Use the pandas functions : factorize(), Imputer with the \"most_frequent\" strategy to preprocess and\n",
    "#transform the categorical attributes\n",
    "\n",
    "X_cat_encoded = []\n",
    "X_categories = []\n",
    "for x in X_cat:\n",
    "    X_cat_encod, X_categ = pd.factorize(X_cat[x])\n",
    "    X_cat_encoded.append(X_cat_encod)\n",
    "    X_categories.append(X_categ)\n",
    "print(X_cat_encoded)\n",
    "print(X_categories)\n"
   ]
  },
  {
   "cell_type": "code",
   "execution_count": 821,
   "id": "7246b9b2",
   "metadata": {},
   "outputs": [
    {
     "name": "stdout",
     "output_type": "stream",
     "text": [
      "<class 'pandas.core.frame.DataFrame'>\n",
      "RangeIndex: 400 entries, 0 to 399\n",
      "Data columns (total 10 columns):\n",
      " #   Column  Non-Null Count  Dtype\n",
      "---  ------  --------------  -----\n",
      " 0   0       400 non-null    int64\n",
      " 1   1       400 non-null    int64\n",
      " 2   2       400 non-null    int64\n",
      " 3   3       400 non-null    int64\n",
      " 4   4       400 non-null    int64\n",
      " 5   5       400 non-null    int64\n",
      " 6   6       400 non-null    int64\n",
      " 7   7       400 non-null    int64\n",
      " 8   8       400 non-null    int64\n",
      " 9   9       400 non-null    int64\n",
      "dtypes: int64(10)\n",
      "memory usage: 31.4 KB\n"
     ]
    },
    {
     "data": {
      "text/html": [
       "<div>\n",
       "<style scoped>\n",
       "    .dataframe tbody tr th:only-of-type {\n",
       "        vertical-align: middle;\n",
       "    }\n",
       "\n",
       "    .dataframe tbody tr th {\n",
       "        vertical-align: top;\n",
       "    }\n",
       "\n",
       "    .dataframe thead th {\n",
       "        text-align: right;\n",
       "    }\n",
       "</style>\n",
       "<table border=\"1\" class=\"dataframe\">\n",
       "  <thead>\n",
       "    <tr style=\"text-align: right;\">\n",
       "      <th></th>\n",
       "      <th>rbc</th>\n",
       "      <th>pc</th>\n",
       "      <th>pcc</th>\n",
       "      <th>ba</th>\n",
       "      <th>htn</th>\n",
       "      <th>dm</th>\n",
       "      <th>cad</th>\n",
       "      <th>appet</th>\n",
       "      <th>pe</th>\n",
       "      <th>ane</th>\n",
       "    </tr>\n",
       "  </thead>\n",
       "  <tbody>\n",
       "    <tr>\n",
       "      <th>count</th>\n",
       "      <td>400.000000</td>\n",
       "      <td>400.000000</td>\n",
       "      <td>400.000000</td>\n",
       "      <td>400.000000</td>\n",
       "      <td>400.000000</td>\n",
       "      <td>400.000000</td>\n",
       "      <td>400.000000</td>\n",
       "      <td>400.000000</td>\n",
       "      <td>400.000000</td>\n",
       "      <td>400.000000</td>\n",
       "    </tr>\n",
       "    <tr>\n",
       "      <th>mean</th>\n",
       "      <td>0.117500</td>\n",
       "      <td>0.190000</td>\n",
       "      <td>0.105000</td>\n",
       "      <td>0.055000</td>\n",
       "      <td>0.632500</td>\n",
       "      <td>0.697500</td>\n",
       "      <td>0.095000</td>\n",
       "      <td>0.205000</td>\n",
       "      <td>0.190000</td>\n",
       "      <td>0.150000</td>\n",
       "    </tr>\n",
       "    <tr>\n",
       "      <th>std</th>\n",
       "      <td>0.322418</td>\n",
       "      <td>0.392792</td>\n",
       "      <td>0.306937</td>\n",
       "      <td>0.228266</td>\n",
       "      <td>0.482728</td>\n",
       "      <td>0.567273</td>\n",
       "      <td>0.310186</td>\n",
       "      <td>0.404207</td>\n",
       "      <td>0.392792</td>\n",
       "      <td>0.357519</td>\n",
       "    </tr>\n",
       "    <tr>\n",
       "      <th>min</th>\n",
       "      <td>0.000000</td>\n",
       "      <td>0.000000</td>\n",
       "      <td>0.000000</td>\n",
       "      <td>0.000000</td>\n",
       "      <td>0.000000</td>\n",
       "      <td>0.000000</td>\n",
       "      <td>0.000000</td>\n",
       "      <td>0.000000</td>\n",
       "      <td>0.000000</td>\n",
       "      <td>0.000000</td>\n",
       "    </tr>\n",
       "    <tr>\n",
       "      <th>25%</th>\n",
       "      <td>0.000000</td>\n",
       "      <td>0.000000</td>\n",
       "      <td>0.000000</td>\n",
       "      <td>0.000000</td>\n",
       "      <td>0.000000</td>\n",
       "      <td>0.000000</td>\n",
       "      <td>0.000000</td>\n",
       "      <td>0.000000</td>\n",
       "      <td>0.000000</td>\n",
       "      <td>0.000000</td>\n",
       "    </tr>\n",
       "    <tr>\n",
       "      <th>50%</th>\n",
       "      <td>0.000000</td>\n",
       "      <td>0.000000</td>\n",
       "      <td>0.000000</td>\n",
       "      <td>0.000000</td>\n",
       "      <td>1.000000</td>\n",
       "      <td>1.000000</td>\n",
       "      <td>0.000000</td>\n",
       "      <td>0.000000</td>\n",
       "      <td>0.000000</td>\n",
       "      <td>0.000000</td>\n",
       "    </tr>\n",
       "    <tr>\n",
       "      <th>75%</th>\n",
       "      <td>0.000000</td>\n",
       "      <td>0.000000</td>\n",
       "      <td>0.000000</td>\n",
       "      <td>0.000000</td>\n",
       "      <td>1.000000</td>\n",
       "      <td>1.000000</td>\n",
       "      <td>0.000000</td>\n",
       "      <td>0.000000</td>\n",
       "      <td>0.000000</td>\n",
       "      <td>0.000000</td>\n",
       "    </tr>\n",
       "    <tr>\n",
       "      <th>max</th>\n",
       "      <td>1.000000</td>\n",
       "      <td>1.000000</td>\n",
       "      <td>1.000000</td>\n",
       "      <td>1.000000</td>\n",
       "      <td>1.000000</td>\n",
       "      <td>4.000000</td>\n",
       "      <td>2.000000</td>\n",
       "      <td>1.000000</td>\n",
       "      <td>1.000000</td>\n",
       "      <td>1.000000</td>\n",
       "    </tr>\n",
       "  </tbody>\n",
       "</table>\n",
       "</div>"
      ],
      "text/plain": [
       "              rbc          pc         pcc          ba         htn          dm  \\\n",
       "count  400.000000  400.000000  400.000000  400.000000  400.000000  400.000000   \n",
       "mean     0.117500    0.190000    0.105000    0.055000    0.632500    0.697500   \n",
       "std      0.322418    0.392792    0.306937    0.228266    0.482728    0.567273   \n",
       "min      0.000000    0.000000    0.000000    0.000000    0.000000    0.000000   \n",
       "25%      0.000000    0.000000    0.000000    0.000000    0.000000    0.000000   \n",
       "50%      0.000000    0.000000    0.000000    0.000000    1.000000    1.000000   \n",
       "75%      0.000000    0.000000    0.000000    0.000000    1.000000    1.000000   \n",
       "max      1.000000    1.000000    1.000000    1.000000    1.000000    4.000000   \n",
       "\n",
       "              cad       appet          pe         ane  \n",
       "count  400.000000  400.000000  400.000000  400.000000  \n",
       "mean     0.095000    0.205000    0.190000    0.150000  \n",
       "std      0.310186    0.404207    0.392792    0.357519  \n",
       "min      0.000000    0.000000    0.000000    0.000000  \n",
       "25%      0.000000    0.000000    0.000000    0.000000  \n",
       "50%      0.000000    0.000000    0.000000    0.000000  \n",
       "75%      0.000000    0.000000    0.000000    0.000000  \n",
       "max      2.000000    1.000000    1.000000    1.000000  "
      ]
     },
     "execution_count": 821,
     "metadata": {},
     "output_type": "execute_result"
    }
   ],
   "source": [
    "#replace missing categorical values by the most frequent ones\n",
    "X_cat_encoded = pd.DataFrame(np.transpose(X_cat_encoded))\n",
    "X_cat_encoded.info()\n",
    "imputer = SimpleImputer(missing_values= -1, strategy=\"most_frequent\")\n",
    "#fit the imputer instance to the data\n",
    "imputer.fit(X_cat_encoded)\n",
    "imputer.statistics_\n",
    "# trasform the dataset by replacing the missing values by the most frequent values\n",
    "X_cat_enc = imputer.transform(X_cat_encoded)\n",
    "X_cat_tr = pd.DataFrame(X_cat_enc, columns = X_cat.columns)\n",
    "X_cat_tr.describe()"
   ]
  },
  {
   "cell_type": "code",
   "execution_count": 822,
   "id": "0b506c83",
   "metadata": {},
   "outputs": [
    {
     "data": {
      "text/html": [
       "<div>\n",
       "<style scoped>\n",
       "    .dataframe tbody tr th:only-of-type {\n",
       "        vertical-align: middle;\n",
       "    }\n",
       "\n",
       "    .dataframe tbody tr th {\n",
       "        vertical-align: top;\n",
       "    }\n",
       "\n",
       "    .dataframe thead th {\n",
       "        text-align: right;\n",
       "    }\n",
       "</style>\n",
       "<table border=\"1\" class=\"dataframe\">\n",
       "  <thead>\n",
       "    <tr style=\"text-align: right;\">\n",
       "      <th></th>\n",
       "      <th>age</th>\n",
       "      <th>bp</th>\n",
       "      <th>sg</th>\n",
       "      <th>al</th>\n",
       "      <th>su</th>\n",
       "      <th>bgr</th>\n",
       "      <th>bu</th>\n",
       "      <th>sc</th>\n",
       "      <th>sod</th>\n",
       "      <th>pot</th>\n",
       "      <th>...</th>\n",
       "      <th>rbc</th>\n",
       "      <th>pc</th>\n",
       "      <th>pcc</th>\n",
       "      <th>ba</th>\n",
       "      <th>htn</th>\n",
       "      <th>dm</th>\n",
       "      <th>cad</th>\n",
       "      <th>appet</th>\n",
       "      <th>pe</th>\n",
       "      <th>ane</th>\n",
       "    </tr>\n",
       "  </thead>\n",
       "  <tbody>\n",
       "    <tr>\n",
       "      <th>0</th>\n",
       "      <td>48.0</td>\n",
       "      <td>80.0</td>\n",
       "      <td>1.020</td>\n",
       "      <td>1.0</td>\n",
       "      <td>0.0</td>\n",
       "      <td>121.0</td>\n",
       "      <td>36.0</td>\n",
       "      <td>1.2</td>\n",
       "      <td>138.0</td>\n",
       "      <td>4.4</td>\n",
       "      <td>...</td>\n",
       "      <td>0</td>\n",
       "      <td>0</td>\n",
       "      <td>0</td>\n",
       "      <td>0</td>\n",
       "      <td>0</td>\n",
       "      <td>0</td>\n",
       "      <td>0</td>\n",
       "      <td>0</td>\n",
       "      <td>0</td>\n",
       "      <td>0</td>\n",
       "    </tr>\n",
       "    <tr>\n",
       "      <th>1</th>\n",
       "      <td>7.0</td>\n",
       "      <td>50.0</td>\n",
       "      <td>1.020</td>\n",
       "      <td>4.0</td>\n",
       "      <td>0.0</td>\n",
       "      <td>121.0</td>\n",
       "      <td>18.0</td>\n",
       "      <td>0.8</td>\n",
       "      <td>138.0</td>\n",
       "      <td>4.4</td>\n",
       "      <td>...</td>\n",
       "      <td>0</td>\n",
       "      <td>0</td>\n",
       "      <td>0</td>\n",
       "      <td>0</td>\n",
       "      <td>1</td>\n",
       "      <td>1</td>\n",
       "      <td>0</td>\n",
       "      <td>0</td>\n",
       "      <td>0</td>\n",
       "      <td>0</td>\n",
       "    </tr>\n",
       "    <tr>\n",
       "      <th>2</th>\n",
       "      <td>62.0</td>\n",
       "      <td>80.0</td>\n",
       "      <td>1.010</td>\n",
       "      <td>2.0</td>\n",
       "      <td>3.0</td>\n",
       "      <td>423.0</td>\n",
       "      <td>53.0</td>\n",
       "      <td>1.8</td>\n",
       "      <td>138.0</td>\n",
       "      <td>4.4</td>\n",
       "      <td>...</td>\n",
       "      <td>0</td>\n",
       "      <td>0</td>\n",
       "      <td>0</td>\n",
       "      <td>0</td>\n",
       "      <td>1</td>\n",
       "      <td>0</td>\n",
       "      <td>0</td>\n",
       "      <td>1</td>\n",
       "      <td>0</td>\n",
       "      <td>1</td>\n",
       "    </tr>\n",
       "    <tr>\n",
       "      <th>3</th>\n",
       "      <td>48.0</td>\n",
       "      <td>70.0</td>\n",
       "      <td>1.005</td>\n",
       "      <td>4.0</td>\n",
       "      <td>0.0</td>\n",
       "      <td>117.0</td>\n",
       "      <td>56.0</td>\n",
       "      <td>3.8</td>\n",
       "      <td>111.0</td>\n",
       "      <td>2.5</td>\n",
       "      <td>...</td>\n",
       "      <td>0</td>\n",
       "      <td>1</td>\n",
       "      <td>1</td>\n",
       "      <td>0</td>\n",
       "      <td>0</td>\n",
       "      <td>1</td>\n",
       "      <td>0</td>\n",
       "      <td>1</td>\n",
       "      <td>1</td>\n",
       "      <td>1</td>\n",
       "    </tr>\n",
       "    <tr>\n",
       "      <th>4</th>\n",
       "      <td>51.0</td>\n",
       "      <td>80.0</td>\n",
       "      <td>1.010</td>\n",
       "      <td>2.0</td>\n",
       "      <td>0.0</td>\n",
       "      <td>106.0</td>\n",
       "      <td>26.0</td>\n",
       "      <td>1.4</td>\n",
       "      <td>138.0</td>\n",
       "      <td>4.4</td>\n",
       "      <td>...</td>\n",
       "      <td>0</td>\n",
       "      <td>0</td>\n",
       "      <td>0</td>\n",
       "      <td>0</td>\n",
       "      <td>1</td>\n",
       "      <td>1</td>\n",
       "      <td>0</td>\n",
       "      <td>0</td>\n",
       "      <td>0</td>\n",
       "      <td>0</td>\n",
       "    </tr>\n",
       "  </tbody>\n",
       "</table>\n",
       "<p>5 rows × 24 columns</p>\n",
       "</div>"
      ],
      "text/plain": [
       "    age    bp     sg   al   su    bgr    bu   sc    sod  pot  ...  rbc  pc  \\\n",
       "0  48.0  80.0  1.020  1.0  0.0  121.0  36.0  1.2  138.0  4.4  ...    0   0   \n",
       "1   7.0  50.0  1.020  4.0  0.0  121.0  18.0  0.8  138.0  4.4  ...    0   0   \n",
       "2  62.0  80.0  1.010  2.0  3.0  423.0  53.0  1.8  138.0  4.4  ...    0   0   \n",
       "3  48.0  70.0  1.005  4.0  0.0  117.0  56.0  3.8  111.0  2.5  ...    0   1   \n",
       "4  51.0  80.0  1.010  2.0  0.0  106.0  26.0  1.4  138.0  4.4  ...    0   0   \n",
       "\n",
       "   pcc  ba  htn  dm  cad  appet  pe  ane  \n",
       "0    0   0    0   0    0      0   0    0  \n",
       "1    0   0    1   1    0      0   0    0  \n",
       "2    0   0    1   0    0      1   0    1  \n",
       "3    1   0    0   1    0      1   1    1  \n",
       "4    0   0    1   1    0      0   0    0  \n",
       "\n",
       "[5 rows x 24 columns]"
      ]
     },
     "execution_count": 822,
     "metadata": {},
     "output_type": "execute_result"
    }
   ],
   "source": [
    "# Merge the numerical and categorical datasets\n",
    "X_tr = pd.concat([X_num_tr, X_cat_tr], axis=1)\n",
    "X_tr.describe()\n",
    "X_tr.head()"
   ]
  },
  {
   "cell_type": "markdown",
   "id": "54a0f3d5",
   "metadata": {},
   "source": [
    "### Data Visualization"
   ]
  },
  {
   "cell_type": "code",
   "execution_count": 823,
   "id": "84f10878",
   "metadata": {},
   "outputs": [
    {
     "data": {
      "image/png": "[encoded data removed]",
      "text/plain": [
       "<Figure size 432x288 with 25 Axes>"
      ]
     },
     "metadata": {
      "needs_background": "light"
     },
     "output_type": "display_data"
    }
   ],
   "source": [
    "#Plot a histogram for each attribute\n",
    "X_tr.hist(bins=50)\n",
    "plt.show()\n",
    "#\"age\", \"bp\",\"sg\", \"al\", \"su\", \"bgr\", \"bu\", \"sc\", \"sod\", \"pot\", \"hemo\",\"pcv\", \"wbcc\", \"rbcc\"\n",
    "# \"rbc\",\"pc\",\"pcc\",\"ba\",\"htn\",\"dm\", \"cad\", \"appet\", \"pe\", \"ane\""
   ]
  },
  {
   "cell_type": "code",
   "execution_count": 824,
   "id": "66ef42dc",
   "metadata": {},
   "outputs": [],
   "source": [
    "Y[Y==\"ckd\"]=1\n",
    "Y[Y==\"notckd\"]=0\n",
    "Y=Y.astype('int')"
   ]
  },
  {
   "cell_type": "code",
   "execution_count": 825,
   "id": "bb32d1de",
   "metadata": {},
   "outputs": [],
   "source": [
    "#Y = Y.to_numpy()\n",
    "X = X_tr.to_numpy()"
   ]
  },
  {
   "cell_type": "code",
   "execution_count": 826,
   "id": "47ac6126",
   "metadata": {},
   "outputs": [
    {
     "data": {
      "text/plain": [
       "pandas.core.series.Series"
      ]
     },
     "execution_count": 826,
     "metadata": {},
     "output_type": "execute_result"
    }
   ],
   "source": [
    "type(Y)"
   ]
  },
  {
   "cell_type": "code",
   "execution_count": 827,
   "id": "25744d48",
   "metadata": {},
   "outputs": [],
   "source": [
    "# split the data set into train and test\n",
    "X_train, X_test, y_train, y_test = train_test_split(X, Y, test_size=0.5, random_state=1)"
   ]
  },
  {
   "cell_type": "markdown",
   "id": "7217ecb8",
   "metadata": {},
   "source": [
    "### Data Standardisation\n",
    "Scale the data so that each feature has a single unit variance and zero mean"
   ]
  },
  {
   "cell_type": "code",
   "execution_count": 828,
   "id": "aba82bb6",
   "metadata": {},
   "outputs": [],
   "source": [
    "# Import the library\n",
    "from sklearn.preprocessing import StandardScaler\n",
    "scaler = preprocessing.StandardScaler()\n",
    "X_train = scaler.fit_transform(X_train)\n",
    "X_test = scaler.transform(X_test)"
   ]
  },
  {
   "cell_type": "code",
   "execution_count": 829,
   "id": "a333d4fc",
   "metadata": {},
   "outputs": [],
   "source": [
    "X_train = pd.DataFrame(data = X_train, columns=X_tr.columns)\n",
    "X_train['class'] = list(y_train)  \n",
    "X_test = pd.DataFrame(data = X_test, columns=X_tr.columns)\n",
    "X_test['class'] = list(y_test)"
   ]
  },
  {
   "cell_type": "code",
   "execution_count": 876,
   "id": "76b7ca0c",
   "metadata": {},
   "outputs": [
    {
     "name": "stdout",
     "output_type": "stream",
     "text": [
      "(200, 25)\n"
     ]
    },
    {
     "data": {
      "text/html": [
       "<div>\n",
       "<style scoped>\n",
       "    .dataframe tbody tr th:only-of-type {\n",
       "        vertical-align: middle;\n",
       "    }\n",
       "\n",
       "    .dataframe tbody tr th {\n",
       "        vertical-align: top;\n",
       "    }\n",
       "\n",
       "    .dataframe thead th {\n",
       "        text-align: right;\n",
       "    }\n",
       "</style>\n",
       "<table border=\"1\" class=\"dataframe\">\n",
       "  <thead>\n",
       "    <tr style=\"text-align: right;\">\n",
       "      <th></th>\n",
       "      <th>age</th>\n",
       "      <th>bp</th>\n",
       "      <th>sg</th>\n",
       "      <th>al</th>\n",
       "      <th>su</th>\n",
       "      <th>bgr</th>\n",
       "      <th>bu</th>\n",
       "      <th>sc</th>\n",
       "      <th>sod</th>\n",
       "      <th>pot</th>\n",
       "      <th>...</th>\n",
       "      <th>pc</th>\n",
       "      <th>pcc</th>\n",
       "      <th>ba</th>\n",
       "      <th>htn</th>\n",
       "      <th>dm</th>\n",
       "      <th>cad</th>\n",
       "      <th>appet</th>\n",
       "      <th>pe</th>\n",
       "      <th>ane</th>\n",
       "      <th>class</th>\n",
       "    </tr>\n",
       "  </thead>\n",
       "  <tbody>\n",
       "    <tr>\n",
       "      <th>0</th>\n",
       "      <td>-1.578459</td>\n",
       "      <td>0.263262</td>\n",
       "      <td>0.402267</td>\n",
       "      <td>-0.726004</td>\n",
       "      <td>-0.365338</td>\n",
       "      <td>-0.689149</td>\n",
       "      <td>-0.254798</td>\n",
       "      <td>-0.315857</td>\n",
       "      <td>0.684499</td>\n",
       "      <td>-0.369179</td>\n",
       "      <td>...</td>\n",
       "      <td>-0.507801</td>\n",
       "      <td>-0.333333</td>\n",
       "      <td>-0.229416</td>\n",
       "      <td>0.741881</td>\n",
       "      <td>0.596699</td>\n",
       "      <td>-0.261488</td>\n",
       "      <td>-0.531085</td>\n",
       "      <td>-0.492175</td>\n",
       "      <td>-0.42829</td>\n",
       "      <td>0</td>\n",
       "    </tr>\n",
       "    <tr>\n",
       "      <th>1</th>\n",
       "      <td>0.309438</td>\n",
       "      <td>7.785036</td>\n",
       "      <td>0.402267</td>\n",
       "      <td>-0.726004</td>\n",
       "      <td>3.334285</td>\n",
       "      <td>2.306514</td>\n",
       "      <td>-0.745072</td>\n",
       "      <td>-0.286567</td>\n",
       "      <td>0.132669</td>\n",
       "      <td>-0.238727</td>\n",
       "      <td>...</td>\n",
       "      <td>1.969276</td>\n",
       "      <td>-0.333333</td>\n",
       "      <td>-0.229416</td>\n",
       "      <td>-1.347925</td>\n",
       "      <td>-1.267986</td>\n",
       "      <td>-0.261488</td>\n",
       "      <td>1.882938</td>\n",
       "      <td>2.031798</td>\n",
       "      <td>-0.42829</td>\n",
       "      <td>1</td>\n",
       "    </tr>\n",
       "    <tr>\n",
       "      <th>2</th>\n",
       "      <td>-0.752504</td>\n",
       "      <td>0.263262</td>\n",
       "      <td>0.402267</td>\n",
       "      <td>-0.726004</td>\n",
       "      <td>-0.365338</td>\n",
       "      <td>-0.601471</td>\n",
       "      <td>-0.856498</td>\n",
       "      <td>-0.389082</td>\n",
       "      <td>0.868442</td>\n",
       "      <td>-0.369179</td>\n",
       "      <td>...</td>\n",
       "      <td>-0.507801</td>\n",
       "      <td>-0.333333</td>\n",
       "      <td>-0.229416</td>\n",
       "      <td>0.741881</td>\n",
       "      <td>0.596699</td>\n",
       "      <td>-0.261488</td>\n",
       "      <td>-0.531085</td>\n",
       "      <td>-0.492175</td>\n",
       "      <td>-0.42829</td>\n",
       "      <td>0</td>\n",
       "    </tr>\n",
       "    <tr>\n",
       "      <th>3</th>\n",
       "      <td>-1.047488</td>\n",
       "      <td>-1.241093</td>\n",
       "      <td>1.316510</td>\n",
       "      <td>-0.726004</td>\n",
       "      <td>-0.365338</td>\n",
       "      <td>-0.879118</td>\n",
       "      <td>-0.722787</td>\n",
       "      <td>-0.330502</td>\n",
       "      <td>0.776470</td>\n",
       "      <td>-0.369179</td>\n",
       "      <td>...</td>\n",
       "      <td>-0.507801</td>\n",
       "      <td>-0.333333</td>\n",
       "      <td>-0.229416</td>\n",
       "      <td>0.741881</td>\n",
       "      <td>0.596699</td>\n",
       "      <td>-0.261488</td>\n",
       "      <td>-0.531085</td>\n",
       "      <td>-0.492175</td>\n",
       "      <td>-0.42829</td>\n",
       "      <td>0</td>\n",
       "    </tr>\n",
       "    <tr>\n",
       "      <th>4</th>\n",
       "      <td>0.368435</td>\n",
       "      <td>-1.241093</td>\n",
       "      <td>0.402267</td>\n",
       "      <td>-0.726004</td>\n",
       "      <td>-0.365338</td>\n",
       "      <td>-0.513793</td>\n",
       "      <td>-0.187942</td>\n",
       "      <td>-0.286567</td>\n",
       "      <td>1.144357</td>\n",
       "      <td>0.022177</td>\n",
       "      <td>...</td>\n",
       "      <td>-0.507801</td>\n",
       "      <td>-0.333333</td>\n",
       "      <td>-0.229416</td>\n",
       "      <td>0.741881</td>\n",
       "      <td>0.596699</td>\n",
       "      <td>-0.261488</td>\n",
       "      <td>-0.531085</td>\n",
       "      <td>-0.492175</td>\n",
       "      <td>-0.42829</td>\n",
       "      <td>0</td>\n",
       "    </tr>\n",
       "  </tbody>\n",
       "</table>\n",
       "<p>5 rows × 25 columns</p>\n",
       "</div>"
      ],
      "text/plain": [
       "        age        bp        sg        al        su       bgr        bu  \\\n",
       "0 -1.578459  0.263262  0.402267 -0.726004 -0.365338 -0.689149 -0.254798   \n",
       "1  0.309438  7.785036  0.402267 -0.726004  3.334285  2.306514 -0.745072   \n",
       "2 -0.752504  0.263262  0.402267 -0.726004 -0.365338 -0.601471 -0.856498   \n",
       "3 -1.047488 -1.241093  1.316510 -0.726004 -0.365338 -0.879118 -0.722787   \n",
       "4  0.368435 -1.241093  0.402267 -0.726004 -0.365338 -0.513793 -0.187942   \n",
       "\n",
       "         sc       sod       pot  ...        pc       pcc        ba       htn  \\\n",
       "0 -0.315857  0.684499 -0.369179  ... -0.507801 -0.333333 -0.229416  0.741881   \n",
       "1 -0.286567  0.132669 -0.238727  ...  1.969276 -0.333333 -0.229416 -1.347925   \n",
       "2 -0.389082  0.868442 -0.369179  ... -0.507801 -0.333333 -0.229416  0.741881   \n",
       "3 -0.330502  0.776470 -0.369179  ... -0.507801 -0.333333 -0.229416  0.741881   \n",
       "4 -0.286567  1.144357  0.022177  ... -0.507801 -0.333333 -0.229416  0.741881   \n",
       "\n",
       "         dm       cad     appet        pe      ane  class  \n",
       "0  0.596699 -0.261488 -0.531085 -0.492175 -0.42829      0  \n",
       "1 -1.267986 -0.261488  1.882938  2.031798 -0.42829      1  \n",
       "2  0.596699 -0.261488 -0.531085 -0.492175 -0.42829      0  \n",
       "3  0.596699 -0.261488 -0.531085 -0.492175 -0.42829      0  \n",
       "4  0.596699 -0.261488 -0.531085 -0.492175 -0.42829      0  \n",
       "\n",
       "[5 rows x 25 columns]"
      ]
     },
     "execution_count": 876,
     "metadata": {},
     "output_type": "execute_result"
    }
   ],
   "source": [
    "print(X_train.shape)\n",
    "X_train.head()"
   ]
  },
  {
   "cell_type": "code",
   "execution_count": 875,
   "id": "60922a40",
   "metadata": {
    "scrolled": true
   },
   "outputs": [
    {
     "name": "stdout",
     "output_type": "stream",
     "text": [
      "(200, 25)\n"
     ]
    },
    {
     "data": {
      "text/html": [
       "<div>\n",
       "<style scoped>\n",
       "    .dataframe tbody tr th:only-of-type {\n",
       "        vertical-align: middle;\n",
       "    }\n",
       "\n",
       "    .dataframe tbody tr th {\n",
       "        vertical-align: top;\n",
       "    }\n",
       "\n",
       "    .dataframe thead th {\n",
       "        text-align: right;\n",
       "    }\n",
       "</style>\n",
       "<table border=\"1\" class=\"dataframe\">\n",
       "  <thead>\n",
       "    <tr style=\"text-align: right;\">\n",
       "      <th></th>\n",
       "      <th>age</th>\n",
       "      <th>bp</th>\n",
       "      <th>sg</th>\n",
       "      <th>al</th>\n",
       "      <th>su</th>\n",
       "      <th>bgr</th>\n",
       "      <th>bu</th>\n",
       "      <th>sc</th>\n",
       "      <th>sod</th>\n",
       "      <th>pot</th>\n",
       "      <th>...</th>\n",
       "      <th>pc</th>\n",
       "      <th>pcc</th>\n",
       "      <th>ba</th>\n",
       "      <th>htn</th>\n",
       "      <th>dm</th>\n",
       "      <th>cad</th>\n",
       "      <th>appet</th>\n",
       "      <th>pe</th>\n",
       "      <th>ane</th>\n",
       "      <th>class</th>\n",
       "    </tr>\n",
       "  </thead>\n",
       "  <tbody>\n",
       "    <tr>\n",
       "      <th>0</th>\n",
       "      <td>-1.991437</td>\n",
       "      <td>-1.241093</td>\n",
       "      <td>1.316510</td>\n",
       "      <td>-0.726004</td>\n",
       "      <td>-0.365338</td>\n",
       "      <td>-0.382276</td>\n",
       "      <td>-0.165657</td>\n",
       "      <td>-0.315857</td>\n",
       "      <td>-0.235217</td>\n",
       "      <td>0.087403</td>\n",
       "      <td>...</td>\n",
       "      <td>-0.507801</td>\n",
       "      <td>-0.333333</td>\n",
       "      <td>-0.229416</td>\n",
       "      <td>0.741881</td>\n",
       "      <td>0.596699</td>\n",
       "      <td>-0.261488</td>\n",
       "      <td>-0.531085</td>\n",
       "      <td>-0.492175</td>\n",
       "      <td>-0.42829</td>\n",
       "      <td>0</td>\n",
       "    </tr>\n",
       "    <tr>\n",
       "      <th>1</th>\n",
       "      <td>1.253387</td>\n",
       "      <td>1.015440</td>\n",
       "      <td>0.402267</td>\n",
       "      <td>-0.726004</td>\n",
       "      <td>-0.365338</td>\n",
       "      <td>2.452644</td>\n",
       "      <td>-0.477650</td>\n",
       "      <td>-0.096181</td>\n",
       "      <td>-0.603104</td>\n",
       "      <td>-0.108275</td>\n",
       "      <td>...</td>\n",
       "      <td>-0.507801</td>\n",
       "      <td>-0.333333</td>\n",
       "      <td>-0.229416</td>\n",
       "      <td>-1.347925</td>\n",
       "      <td>-1.267986</td>\n",
       "      <td>-0.261488</td>\n",
       "      <td>1.882938</td>\n",
       "      <td>-0.492175</td>\n",
       "      <td>-0.42829</td>\n",
       "      <td>1</td>\n",
       "    </tr>\n",
       "    <tr>\n",
       "      <th>2</th>\n",
       "      <td>-1.342472</td>\n",
       "      <td>-0.488915</td>\n",
       "      <td>0.402267</td>\n",
       "      <td>-0.726004</td>\n",
       "      <td>-0.365338</td>\n",
       "      <td>-0.133855</td>\n",
       "      <td>-0.633646</td>\n",
       "      <td>-0.374437</td>\n",
       "      <td>0.684499</td>\n",
       "      <td>0.087403</td>\n",
       "      <td>...</td>\n",
       "      <td>-0.507801</td>\n",
       "      <td>-0.333333</td>\n",
       "      <td>-0.229416</td>\n",
       "      <td>0.741881</td>\n",
       "      <td>0.596699</td>\n",
       "      <td>-0.261488</td>\n",
       "      <td>-0.531085</td>\n",
       "      <td>-0.492175</td>\n",
       "      <td>-0.42829</td>\n",
       "      <td>0</td>\n",
       "    </tr>\n",
       "    <tr>\n",
       "      <th>3</th>\n",
       "      <td>-1.519462</td>\n",
       "      <td>-0.488915</td>\n",
       "      <td>0.402267</td>\n",
       "      <td>-0.726004</td>\n",
       "      <td>-0.365338</td>\n",
       "      <td>-0.762214</td>\n",
       "      <td>-0.343938</td>\n",
       "      <td>-0.389082</td>\n",
       "      <td>-0.143246</td>\n",
       "      <td>-0.369179</td>\n",
       "      <td>...</td>\n",
       "      <td>-0.507801</td>\n",
       "      <td>-0.333333</td>\n",
       "      <td>-0.229416</td>\n",
       "      <td>0.741881</td>\n",
       "      <td>0.596699</td>\n",
       "      <td>-0.261488</td>\n",
       "      <td>-0.531085</td>\n",
       "      <td>-0.492175</td>\n",
       "      <td>-0.42829</td>\n",
       "      <td>0</td>\n",
       "    </tr>\n",
       "    <tr>\n",
       "      <th>4</th>\n",
       "      <td>0.663419</td>\n",
       "      <td>0.263262</td>\n",
       "      <td>-1.426220</td>\n",
       "      <td>0.046341</td>\n",
       "      <td>1.484473</td>\n",
       "      <td>2.467257</td>\n",
       "      <td>1.238310</td>\n",
       "      <td>-0.037601</td>\n",
       "      <td>-0.695075</td>\n",
       "      <td>-0.695309</td>\n",
       "      <td>...</td>\n",
       "      <td>-0.507801</td>\n",
       "      <td>-0.333333</td>\n",
       "      <td>-0.229416</td>\n",
       "      <td>0.741881</td>\n",
       "      <td>0.596699</td>\n",
       "      <td>-0.261488</td>\n",
       "      <td>-0.531085</td>\n",
       "      <td>-0.492175</td>\n",
       "      <td>-0.42829</td>\n",
       "      <td>1</td>\n",
       "    </tr>\n",
       "  </tbody>\n",
       "</table>\n",
       "<p>5 rows × 25 columns</p>\n",
       "</div>"
      ],
      "text/plain": [
       "        age        bp        sg        al        su       bgr        bu  \\\n",
       "0 -1.991437 -1.241093  1.316510 -0.726004 -0.365338 -0.382276 -0.165657   \n",
       "1  1.253387  1.015440  0.402267 -0.726004 -0.365338  2.452644 -0.477650   \n",
       "2 -1.342472 -0.488915  0.402267 -0.726004 -0.365338 -0.133855 -0.633646   \n",
       "3 -1.519462 -0.488915  0.402267 -0.726004 -0.365338 -0.762214 -0.343938   \n",
       "4  0.663419  0.263262 -1.426220  0.046341  1.484473  2.467257  1.238310   \n",
       "\n",
       "         sc       sod       pot  ...        pc       pcc        ba       htn  \\\n",
       "0 -0.315857 -0.235217  0.087403  ... -0.507801 -0.333333 -0.229416  0.741881   \n",
       "1 -0.096181 -0.603104 -0.108275  ... -0.507801 -0.333333 -0.229416 -1.347925   \n",
       "2 -0.374437  0.684499  0.087403  ... -0.507801 -0.333333 -0.229416  0.741881   \n",
       "3 -0.389082 -0.143246 -0.369179  ... -0.507801 -0.333333 -0.229416  0.741881   \n",
       "4 -0.037601 -0.695075 -0.695309  ... -0.507801 -0.333333 -0.229416  0.741881   \n",
       "\n",
       "         dm       cad     appet        pe      ane  class  \n",
       "0  0.596699 -0.261488 -0.531085 -0.492175 -0.42829      0  \n",
       "1 -1.267986 -0.261488  1.882938 -0.492175 -0.42829      1  \n",
       "2  0.596699 -0.261488 -0.531085 -0.492175 -0.42829      0  \n",
       "3  0.596699 -0.261488 -0.531085 -0.492175 -0.42829      0  \n",
       "4  0.596699 -0.261488 -0.531085 -0.492175 -0.42829      1  \n",
       "\n",
       "[5 rows x 25 columns]"
      ]
     },
     "execution_count": 875,
     "metadata": {},
     "output_type": "execute_result"
    }
   ],
   "source": [
    "print(X_test.shape)\n",
    "X_test.head()"
   ]
  },
  {
   "cell_type": "markdown",
   "id": "e969da3d",
   "metadata": {},
   "source": [
    "#### Implémenatation de SGD Classifier sur la base 'Chronic_Kidney_disease'"
   ]
  },
  {
   "cell_type": "code",
   "execution_count": 834,
   "id": "1bd174eb",
   "metadata": {},
   "outputs": [
    {
     "name": "stdout",
     "output_type": "stream",
     "text": [
      "[[ 75   0]\n",
      " [  1 124]]\n",
      "99.5 %\n"
     ]
    }
   ],
   "source": [
    "#Paramètres par défaut\n",
    "from sklearn.linear_model import SGDClassifier\n",
    "mdl = SGDClassifier()\n",
    "mdl.fit(X_train,y_train)\n",
    "y_pred = mdl.predict(X_test)\n",
    "from sklearn.metrics import confusion_matrix\n",
    "print(confusion_matrix(y_test, y_pred))\n",
    "from sklearn.metrics import accuracy_score\n",
    "print(round(accuracy_score(y_test,y_pred)*100,3),'%')"
   ]
  },
  {
   "cell_type": "code",
   "execution_count": 839,
   "id": "63f8e5d5",
   "metadata": {},
   "outputs": [
    {
     "name": "stdout",
     "output_type": "stream",
     "text": [
      "[[ 75   0]\n",
      " [  2 123]]\n",
      "99.0 %\n"
     ]
    }
   ],
   "source": [
    "#max_iter=100, tol = 0.1\n",
    "from sklearn.linear_model import SGDClassifier\n",
    "mdl = SGDClassifier(max_iter = 100, tol = 0.1)\n",
    "mdl.fit(X_train,y_train)\n",
    "y_pred = mdl.predict(X_test)\n",
    "from sklearn.metrics import confusion_matrix\n",
    "print(confusion_matrix(y_test, y_pred))\n",
    "from sklearn.metrics import accuracy_score\n",
    "print(round(accuracy_score(y_test,y_pred)*100,3),'%')"
   ]
  },
  {
   "cell_type": "code",
   "execution_count": 874,
   "id": "3e092a8d",
   "metadata": {},
   "outputs": [
    {
     "name": "stdout",
     "output_type": "stream",
     "text": [
      "[[ 75   0]\n",
      " [  0 125]]\n",
      "100.0 %\n"
     ]
    }
   ],
   "source": [
    "#max_iter=10000, tol = 1e-6\n",
    "from sklearn.linear_model import SGDClassifier\n",
    "mdl = SGDClassifier(max_iter = 10000, tol = 1e-6)\n",
    "mdl.fit(X_train,y_train)\n",
    "y_pred = mdl.predict(X_test)\n",
    "from sklearn.metrics import confusion_matrix\n",
    "print(confusion_matrix(y_test, y_pred))\n",
    "from sklearn.metrics import accuracy_score\n",
    "print(round(accuracy_score(y_test,y_pred)*100,3),'%')"
   ]
  },
  {
   "cell_type": "markdown",
   "id": "15149226",
   "metadata": {},
   "source": [
    "### Implementing SGD Classifier on 'Iris dataset' in semi-supervised learning"
   ]
  },
  {
   "cell_type": "markdown",
   "id": "f6fa73c4",
   "metadata": {},
   "source": [
    "#### Implementing an unlabelising function 'maskData'"
   ]
  },
  {
   "cell_type": "code",
   "execution_count": 1033,
   "id": "d9e6207e",
   "metadata": {},
   "outputs": [],
   "source": [
    "import random\n",
    "\n",
    "def maskData(true_labels, percentage):\n",
    "\n",
    "    mask = np.ones((1,len(true_labels)),dtype=bool)[0]\n",
    "    labels = true_labels.copy()\n",
    "    \n",
    "    for l, enc in zip(np.unique(true_labels),range(0,len(np.unique(true_labels)))):\n",
    "        \n",
    "        deck = np.argwhere(true_labels == l).flatten()        \n",
    "        random.shuffle(deck)\n",
    "        \n",
    "        mask[deck[:int(percentage * len(true_labels[true_labels == l]))]] = False\n",
    "\n",
    "        labels[labels == l] = enc\n",
    "\n",
    "    labels[mask] = -1\n",
    "    \n",
    "    return np.array(labels).astype(int)\n",
    "    "
   ]
  },
  {
   "cell_type": "markdown",
   "id": "7f5fde8c",
   "metadata": {},
   "source": [
    "#### Importation de la base et prétraitement de données"
   ]
  },
  {
   "cell_type": "code",
   "execution_count": 1048,
   "id": "e845661e",
   "metadata": {},
   "outputs": [],
   "source": [
    " #IMPORT DATASETS\n",
    "from sklearn import datasets\n",
    "iris = datasets.load_iris()\n",
    "data = iris.data\n",
    "labels = iris.target\n",
    "    \n",
    "# split the data set into train and test\n",
    "X_train, X_test, y_train, y_test = train_test_split(data, labels, test_size=0.1, random_state=1)\n",
    "#Data standardisation\n",
    "from sklearn.preprocessing import StandardScaler\n",
    "scaler = preprocessing.StandardScaler()\n",
    "X_train = scaler.fit_transform(X_train)\n",
    "X_test = scaler.transform(X_test)\n",
    "X_train = pd.DataFrame(data = X_train, columns=load_iris().feature_names)\n",
    "X_train['class'] = list(y_train)  \n",
    "X_test = pd.DataFrame(data = X_test, columns=load_iris().feature_names)\n",
    "X_test['class'] = list(y_test)"
   ]
  },
  {
   "cell_type": "markdown",
   "id": "b7a52dcd",
   "metadata": {},
   "source": [
    "#### Lab = 10%, nonLab = 80%, Test= 10%"
   ]
  },
  {
   "cell_type": "code",
   "execution_count": 1074,
   "id": "712e1481",
   "metadata": {},
   "outputs": [
    {
     "name": "stdout",
     "output_type": "stream",
     "text": [
      "[[0 0 0 0]\n",
      " [5 0 0 0]\n",
      " [6 0 0 0]\n",
      " [3 0 0 1]]\n",
      "6.667 %\n"
     ]
    }
   ],
   "source": [
    "from sklearn import datasets\n",
    "from sklearn.semi_supervised import LabelPropagation\n",
    "\n",
    "def runLP():\n",
    "\n",
    "    #UNLABEL 90% OF THE DATASET\n",
    "    masked_labels = maskData(y_train, 0.1)\n",
    "    \n",
    "    #RUN THE MODEL\n",
    "    model = SGDClassifier(max_iter = 10000, tol =1e-6)\n",
    "    model.fit(X_train, masked_labels)\n",
    "    y_pred = model.predict(X_test)\n",
    "    \n",
    "    #PRINT CONFUSION MATRIX\n",
    "    print(confusion_matrix(y_test, y_pred))\n",
    "    print(round(accuracy_score(y_test,y_pred)*100,3),'%')\n",
    "\n",
    "    \n",
    "if __name__ == '__main__':\n",
    "    runLP()"
   ]
  },
  {
   "cell_type": "markdown",
   "id": "9c560831",
   "metadata": {},
   "source": [
    "#### Lab = 20%, nonLab = 70%, Test= 10%"
   ]
  },
  {
   "cell_type": "code",
   "execution_count": 1067,
   "id": "2b5cbd9f",
   "metadata": {},
   "outputs": [
    {
     "name": "stdout",
     "output_type": "stream",
     "text": [
      "[[0 0 0 0]\n",
      " [5 0 0 0]\n",
      " [6 0 0 0]\n",
      " [0 0 0 4]]\n",
      "26.667 %\n"
     ]
    }
   ],
   "source": [
    "from sklearn import datasets\n",
    "from sklearn.semi_supervised import LabelPropagation\n",
    "\n",
    "def runLP():\n",
    "\n",
    "    #UNLABEL 90% OF THE DATASET\n",
    "    masked_labels = maskData(y_train, 0.2)\n",
    "    \n",
    "    #RUN THE MODEL\n",
    "    model = SGDClassifier(max_iter = 10000, tol =1e-6)\n",
    "    model.fit(X_train, masked_labels)\n",
    "    y_pred = model.predict(X_test)\n",
    "    \n",
    "    #PRINT CONFUSION MATRIX\n",
    "    print(confusion_matrix(y_test, y_pred))\n",
    "    print(round(accuracy_score(y_test,y_pred)*100,3),'%')\n",
    "\n",
    "    \n",
    "if __name__ == '__main__':\n",
    "    runLP()"
   ]
  },
  {
   "cell_type": "markdown",
   "id": "6fbcae72",
   "metadata": {},
   "source": [
    "#### Lab = 30%, nonLab = 70%, Test= 10%"
   ]
  },
  {
   "cell_type": "code",
   "execution_count": 1094,
   "id": "942542e0",
   "metadata": {},
   "outputs": [
    {
     "name": "stdout",
     "output_type": "stream",
     "text": [
      "[[0 0 0 0]\n",
      " [4 1 0 0]\n",
      " [5 0 1 0]\n",
      " [0 0 0 4]]\n",
      "40.0 %\n"
     ]
    }
   ],
   "source": [
    "from sklearn import datasets\n",
    "from sklearn.semi_supervised import LabelPropagation\n",
    "\n",
    "def runLP():\n",
    "\n",
    "    #UNLABEL 90% OF THE DATASET\n",
    "    masked_labels = maskData(y_train, 0.3)\n",
    "    \n",
    "    #RUN THE MODEL\n",
    "    model = SGDClassifier(max_iter = 10000, tol =1e-6)\n",
    "    model.fit(X_train, masked_labels)\n",
    "    y_pred = model.predict(X_test)\n",
    "    \n",
    "    #PRINT CONFUSION MATRIX\n",
    "    print(confusion_matrix(y_test, y_pred))\n",
    "    print(round(accuracy_score(y_test,y_pred)*100,3),'%')\n",
    "\n",
    "    \n",
    "if __name__ == '__main__':\n",
    "    runLP()"
   ]
  },
  {
   "cell_type": "markdown",
   "id": "b1735f38",
   "metadata": {},
   "source": [
    "#### Lab = 40%, nonLab = 50%, Test= 10%"
   ]
  },
  {
   "cell_type": "code",
   "execution_count": 1101,
   "id": "936ff5c9",
   "metadata": {},
   "outputs": [
    {
     "name": "stdout",
     "output_type": "stream",
     "text": [
      "[[0 0 0 0]\n",
      " [5 0 0 0]\n",
      " [3 0 3 0]\n",
      " [0 0 0 4]]\n",
      "46.667 %\n"
     ]
    }
   ],
   "source": [
    "from sklearn import datasets\n",
    "from sklearn.semi_supervised import LabelPropagation\n",
    "\n",
    "def runLP():\n",
    "\n",
    "    #UNLABEL 90% OF THE DATASET\n",
    "    masked_labels = maskData(y_train, 0.4)\n",
    "    \n",
    "    #RUN THE MODEL\n",
    "    model = SGDClassifier(max_iter = 10000, tol =1e-6)\n",
    "    model.fit(X_train, masked_labels)\n",
    "    y_pred = model.predict(X_test)\n",
    "    \n",
    "    #PRINT CONFUSION MATRIX\n",
    "    print(confusion_matrix(y_test, y_pred))\n",
    "    print(round(accuracy_score(y_test,y_pred)*100,3),'%')\n",
    "\n",
    "    \n",
    "if __name__ == '__main__':\n",
    "    runLP()"
   ]
  },
  {
   "cell_type": "markdown",
   "id": "57cd0c33",
   "metadata": {},
   "source": [
    "#### Lab = 50%, nonLab = 40%, Test= 10%"
   ]
  },
  {
   "cell_type": "code",
   "execution_count": 1107,
   "id": "f4495194",
   "metadata": {},
   "outputs": [
    {
     "name": "stdout",
     "output_type": "stream",
     "text": [
      "[[0 0 0 0]\n",
      " [2 3 0 0]\n",
      " [1 0 5 0]\n",
      " [4 0 0 0]]\n",
      "53.333 %\n"
     ]
    }
   ],
   "source": [
    "from sklearn import datasets\n",
    "from sklearn.semi_supervised import LabelPropagation\n",
    "\n",
    "def runLP():\n",
    "\n",
    "    #UNLABEL 90% OF THE DATASET\n",
    "    masked_labels = maskData(y_train, 0.5)\n",
    "    \n",
    "    #RUN THE MODEL\n",
    "    model = SGDClassifier(max_iter = 10000, tol =1e-6)\n",
    "    model.fit(X_train, masked_labels)\n",
    "    y_pred = model.predict(X_test)\n",
    "    \n",
    "    #PRINT CONFUSION MATRIX\n",
    "    print(confusion_matrix(y_test, y_pred))\n",
    "    print(round(accuracy_score(y_test,y_pred)*100,3),'%')\n",
    "\n",
    "    \n",
    "if __name__ == '__main__':\n",
    "    runLP()"
   ]
  },
  {
   "cell_type": "markdown",
   "id": "cefdbe8c",
   "metadata": {},
   "source": [
    "#### Lab = 60%, nonLab = 30%, Test= 10%"
   ]
  },
  {
   "cell_type": "code",
   "execution_count": 1108,
   "id": "841b7635",
   "metadata": {},
   "outputs": [
    {
     "name": "stdout",
     "output_type": "stream",
     "text": [
      "[[0 0 0 0]\n",
      " [0 5 0 0]\n",
      " [1 0 5 0]\n",
      " [2 0 2 0]]\n",
      "66.667 %\n"
     ]
    }
   ],
   "source": [
    "from sklearn import datasets\n",
    "from sklearn.semi_supervised import LabelPropagation\n",
    "\n",
    "def runLP():\n",
    "\n",
    "    #UNLABEL 90% OF THE DATASET\n",
    "    masked_labels = maskData(y_train, 0.6)\n",
    "    \n",
    "    #RUN THE MODEL\n",
    "    model = SGDClassifier(max_iter = 10000, tol =1e-6)\n",
    "    model.fit(X_train, masked_labels)\n",
    "    y_pred = model.predict(X_test)\n",
    "    \n",
    "    #PRINT CONFUSION MATRIX\n",
    "    print(confusion_matrix(y_test, y_pred))\n",
    "    print(round(accuracy_score(y_test,y_pred)*100,3),'%')\n",
    "\n",
    "    \n",
    "if __name__ == '__main__':\n",
    "    runLP()"
   ]
  },
  {
   "cell_type": "markdown",
   "id": "0a801080",
   "metadata": {},
   "source": [
    "#### Lab = 70%, nonLab = 20%, Test= 10%"
   ]
  },
  {
   "cell_type": "code",
   "execution_count": 1109,
   "id": "fa72befd",
   "metadata": {},
   "outputs": [
    {
     "name": "stdout",
     "output_type": "stream",
     "text": [
      "[[0 0 0 0]\n",
      " [1 4 0 0]\n",
      " [1 0 5 0]\n",
      " [0 0 0 4]]\n",
      "86.667 %\n"
     ]
    }
   ],
   "source": [
    "from sklearn import datasets\n",
    "from sklearn.semi_supervised import LabelPropagation\n",
    "\n",
    "def runLP():\n",
    "\n",
    "    #UNLABEL 90% OF THE DATASET\n",
    "    masked_labels = maskData(y_train, 0.7)\n",
    "    \n",
    "    #RUN THE MODEL\n",
    "    model = SGDClassifier(max_iter = 10000, tol =1e-6)\n",
    "    model.fit(X_train, masked_labels)\n",
    "    y_pred = model.predict(X_test)\n",
    "    \n",
    "    #PRINT CONFUSION MATRIX\n",
    "    print(confusion_matrix(y_test, y_pred))\n",
    "    print(round(accuracy_score(y_test,y_pred)*100,3),'%')\n",
    "\n",
    "    \n",
    "if __name__ == '__main__':\n",
    "    runLP()"
   ]
  },
  {
   "cell_type": "markdown",
   "id": "f0ec5087",
   "metadata": {},
   "source": [
    "#### Lab = 80%, nonLab = 10%, Test= 10%"
   ]
  },
  {
   "cell_type": "code",
   "execution_count": 1111,
   "id": "538ad0ea",
   "metadata": {},
   "outputs": [
    {
     "name": "stdout",
     "output_type": "stream",
     "text": [
      "[[5 0 0]\n",
      " [0 6 0]\n",
      " [0 0 4]]\n",
      "100.0 %\n"
     ]
    }
   ],
   "source": [
    "from sklearn import datasets\n",
    "from sklearn.semi_supervised import LabelPropagation\n",
    "\n",
    "def runLP():\n",
    "\n",
    "    #UNLABEL 90% OF THE DATASET\n",
    "    masked_labels = maskData(y_train, 0.8)\n",
    "    \n",
    "    #RUN THE MODEL\n",
    "    model = SGDClassifier(max_iter = 10000, tol =1e-6)\n",
    "    model.fit(X_train, masked_labels)\n",
    "    y_pred = model.predict(X_test)\n",
    "    \n",
    "    #PRINT CONFUSION MATRIX\n",
    "    print(confusion_matrix(y_test, y_pred))\n",
    "    print(round(accuracy_score(y_test,y_pred)*100,3),'%')\n",
    "\n",
    "    \n",
    "if __name__ == '__main__':\n",
    "    runLP()"
   ]
  },
  {
   "cell_type": "code",
   "execution_count": 1125,
   "id": "038b147a",
   "metadata": {},
   "outputs": [
    {
     "data": {
      "image/png": "[encoded data removed]",
      "text/plain": [
       "<Figure size 432x288 with 1 Axes>"
      ]
     },
     "metadata": {
      "needs_background": "light"
     },
     "output_type": "display_data"
    }
   ],
   "source": [
    "x = np.array([10, 20, 30,40,50,60,70,80])\n",
    "y = np.array([6.667,26.667,40,46.667,53.333,66.667,86.667,100])\n",
    "\n",
    "plt.plot(x, y)\n",
    "plt.xlabel(\"Proportion de Lab en %\")\n",
    "plt.ylabel('Score de précision du modèle en %')\n",
    "plt.title(\"Représentation de la précision du modèle en fonction de la taille de Lab/nonLab\")\n",
    "plt.show()"
   ]
  }
 ],
 "metadata": {
  "kernelspec": {
   "display_name": "Python 3 (ipykernel)",
   "language": "python",
   "name": "python3"
  },
  "language_info": {
   "codemirror_mode": {
    "name": "ipython",
    "version": 3
   },
   "file_extension": ".py",
   "mimetype": "text/x-python",
   "name": "python",
   "nbconvert_exporter": "python",
   "pygments_lexer": "ipython3",
   "version": "3.10.2"
  }
 },
 "nbformat": 4,
 "nbformat_minor": 5
}
